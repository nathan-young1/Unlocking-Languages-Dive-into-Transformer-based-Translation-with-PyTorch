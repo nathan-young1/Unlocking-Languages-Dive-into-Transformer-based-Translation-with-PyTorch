{
  "nbformat": 4,
  "nbformat_minor": 0,
  "metadata": {
    "colab": {
      "provenance": [],
      "gpuType": "T4",
      "mount_file_id": "1GofqghUERJykXM4VNfJlUu4scMkI1Nze",
      "authorship_tag": "ABX9TyM7C2EiuK0PwkyIErpU2WZi",
      "include_colab_link": true
    },
    "kernelspec": {
      "name": "python3",
      "display_name": "Python 3"
    },
    "language_info": {
      "name": "python"
    },
    "widgets": {
      "application/vnd.jupyter.widget-state+json": {
        "f719148acae145b2a901b39c4c58c11c": {
          "model_module": "@jupyter-widgets/controls",
          "model_name": "HBoxModel",
          "model_module_version": "1.5.0",
          "state": {
            "_dom_classes": [],
            "_model_module": "@jupyter-widgets/controls",
            "_model_module_version": "1.5.0",
            "_model_name": "HBoxModel",
            "_view_count": null,
            "_view_module": "@jupyter-widgets/controls",
            "_view_module_version": "1.5.0",
            "_view_name": "HBoxView",
            "box_style": "",
            "children": [
              "IPY_MODEL_955b34552d3c4e9c9cd3fc28100538e3",
              "IPY_MODEL_3bb19afc978e4b1eb72367f575bf7a2c",
              "IPY_MODEL_aa5a192d04214196be52d2831e12bde4"
            ],
            "layout": "IPY_MODEL_979e37733fb94142976b5b94e84d8e9f"
          }
        },
        "955b34552d3c4e9c9cd3fc28100538e3": {
          "model_module": "@jupyter-widgets/controls",
          "model_name": "HTMLModel",
          "model_module_version": "1.5.0",
          "state": {
            "_dom_classes": [],
            "_model_module": "@jupyter-widgets/controls",
            "_model_module_version": "1.5.0",
            "_model_name": "HTMLModel",
            "_view_count": null,
            "_view_module": "@jupyter-widgets/controls",
            "_view_module_version": "1.5.0",
            "_view_name": "HTMLView",
            "description": "",
            "description_tooltip": null,
            "layout": "IPY_MODEL_674f24b6850a481f87fe396d3820d3a6",
            "placeholder": "​",
            "style": "IPY_MODEL_f9a2d357eb7f4a7cb6518c1025f19f31",
            "value": "model.safetensors: 100%"
          }
        },
        "3bb19afc978e4b1eb72367f575bf7a2c": {
          "model_module": "@jupyter-widgets/controls",
          "model_name": "FloatProgressModel",
          "model_module_version": "1.5.0",
          "state": {
            "_dom_classes": [],
            "_model_module": "@jupyter-widgets/controls",
            "_model_module_version": "1.5.0",
            "_model_name": "FloatProgressModel",
            "_view_count": null,
            "_view_module": "@jupyter-widgets/controls",
            "_view_module_version": "1.5.0",
            "_view_name": "ProgressView",
            "bar_style": "success",
            "description": "",
            "description_tooltip": null,
            "layout": "IPY_MODEL_6a062788bff446429b444848aaf9d49c",
            "max": 541795680,
            "min": 0,
            "orientation": "horizontal",
            "style": "IPY_MODEL_3263feddb6ab433493a83e9c00a999ee",
            "value": 541795680
          }
        },
        "aa5a192d04214196be52d2831e12bde4": {
          "model_module": "@jupyter-widgets/controls",
          "model_name": "HTMLModel",
          "model_module_version": "1.5.0",
          "state": {
            "_dom_classes": [],
            "_model_module": "@jupyter-widgets/controls",
            "_model_module_version": "1.5.0",
            "_model_name": "HTMLModel",
            "_view_count": null,
            "_view_module": "@jupyter-widgets/controls",
            "_view_module_version": "1.5.0",
            "_view_name": "HTMLView",
            "description": "",
            "description_tooltip": null,
            "layout": "IPY_MODEL_bf6235d9636a4eec9f0446abfc1b4d77",
            "placeholder": "​",
            "style": "IPY_MODEL_9b751db66d9c42968a528ceca7585f3d",
            "value": " 542M/542M [00:38&lt;00:00, 14.0MB/s]"
          }
        },
        "979e37733fb94142976b5b94e84d8e9f": {
          "model_module": "@jupyter-widgets/base",
          "model_name": "LayoutModel",
          "model_module_version": "1.2.0",
          "state": {
            "_model_module": "@jupyter-widgets/base",
            "_model_module_version": "1.2.0",
            "_model_name": "LayoutModel",
            "_view_count": null,
            "_view_module": "@jupyter-widgets/base",
            "_view_module_version": "1.2.0",
            "_view_name": "LayoutView",
            "align_content": null,
            "align_items": null,
            "align_self": null,
            "border": null,
            "bottom": null,
            "display": null,
            "flex": null,
            "flex_flow": null,
            "grid_area": null,
            "grid_auto_columns": null,
            "grid_auto_flow": null,
            "grid_auto_rows": null,
            "grid_column": null,
            "grid_gap": null,
            "grid_row": null,
            "grid_template_areas": null,
            "grid_template_columns": null,
            "grid_template_rows": null,
            "height": null,
            "justify_content": null,
            "justify_items": null,
            "left": null,
            "margin": null,
            "max_height": null,
            "max_width": null,
            "min_height": null,
            "min_width": null,
            "object_fit": null,
            "object_position": null,
            "order": null,
            "overflow": null,
            "overflow_x": null,
            "overflow_y": null,
            "padding": null,
            "right": null,
            "top": null,
            "visibility": null,
            "width": null
          }
        },
        "674f24b6850a481f87fe396d3820d3a6": {
          "model_module": "@jupyter-widgets/base",
          "model_name": "LayoutModel",
          "model_module_version": "1.2.0",
          "state": {
            "_model_module": "@jupyter-widgets/base",
            "_model_module_version": "1.2.0",
            "_model_name": "LayoutModel",
            "_view_count": null,
            "_view_module": "@jupyter-widgets/base",
            "_view_module_version": "1.2.0",
            "_view_name": "LayoutView",
            "align_content": null,
            "align_items": null,
            "align_self": null,
            "border": null,
            "bottom": null,
            "display": null,
            "flex": null,
            "flex_flow": null,
            "grid_area": null,
            "grid_auto_columns": null,
            "grid_auto_flow": null,
            "grid_auto_rows": null,
            "grid_column": null,
            "grid_gap": null,
            "grid_row": null,
            "grid_template_areas": null,
            "grid_template_columns": null,
            "grid_template_rows": null,
            "height": null,
            "justify_content": null,
            "justify_items": null,
            "left": null,
            "margin": null,
            "max_height": null,
            "max_width": null,
            "min_height": null,
            "min_width": null,
            "object_fit": null,
            "object_position": null,
            "order": null,
            "overflow": null,
            "overflow_x": null,
            "overflow_y": null,
            "padding": null,
            "right": null,
            "top": null,
            "visibility": null,
            "width": null
          }
        },
        "f9a2d357eb7f4a7cb6518c1025f19f31": {
          "model_module": "@jupyter-widgets/controls",
          "model_name": "DescriptionStyleModel",
          "model_module_version": "1.5.0",
          "state": {
            "_model_module": "@jupyter-widgets/controls",
            "_model_module_version": "1.5.0",
            "_model_name": "DescriptionStyleModel",
            "_view_count": null,
            "_view_module": "@jupyter-widgets/base",
            "_view_module_version": "1.2.0",
            "_view_name": "StyleView",
            "description_width": ""
          }
        },
        "6a062788bff446429b444848aaf9d49c": {
          "model_module": "@jupyter-widgets/base",
          "model_name": "LayoutModel",
          "model_module_version": "1.2.0",
          "state": {
            "_model_module": "@jupyter-widgets/base",
            "_model_module_version": "1.2.0",
            "_model_name": "LayoutModel",
            "_view_count": null,
            "_view_module": "@jupyter-widgets/base",
            "_view_module_version": "1.2.0",
            "_view_name": "LayoutView",
            "align_content": null,
            "align_items": null,
            "align_self": null,
            "border": null,
            "bottom": null,
            "display": null,
            "flex": null,
            "flex_flow": null,
            "grid_area": null,
            "grid_auto_columns": null,
            "grid_auto_flow": null,
            "grid_auto_rows": null,
            "grid_column": null,
            "grid_gap": null,
            "grid_row": null,
            "grid_template_areas": null,
            "grid_template_columns": null,
            "grid_template_rows": null,
            "height": null,
            "justify_content": null,
            "justify_items": null,
            "left": null,
            "margin": null,
            "max_height": null,
            "max_width": null,
            "min_height": null,
            "min_width": null,
            "object_fit": null,
            "object_position": null,
            "order": null,
            "overflow": null,
            "overflow_x": null,
            "overflow_y": null,
            "padding": null,
            "right": null,
            "top": null,
            "visibility": null,
            "width": null
          }
        },
        "3263feddb6ab433493a83e9c00a999ee": {
          "model_module": "@jupyter-widgets/controls",
          "model_name": "ProgressStyleModel",
          "model_module_version": "1.5.0",
          "state": {
            "_model_module": "@jupyter-widgets/controls",
            "_model_module_version": "1.5.0",
            "_model_name": "ProgressStyleModel",
            "_view_count": null,
            "_view_module": "@jupyter-widgets/base",
            "_view_module_version": "1.2.0",
            "_view_name": "StyleView",
            "bar_color": null,
            "description_width": ""
          }
        },
        "bf6235d9636a4eec9f0446abfc1b4d77": {
          "model_module": "@jupyter-widgets/base",
          "model_name": "LayoutModel",
          "model_module_version": "1.2.0",
          "state": {
            "_model_module": "@jupyter-widgets/base",
            "_model_module_version": "1.2.0",
            "_model_name": "LayoutModel",
            "_view_count": null,
            "_view_module": "@jupyter-widgets/base",
            "_view_module_version": "1.2.0",
            "_view_name": "LayoutView",
            "align_content": null,
            "align_items": null,
            "align_self": null,
            "border": null,
            "bottom": null,
            "display": null,
            "flex": null,
            "flex_flow": null,
            "grid_area": null,
            "grid_auto_columns": null,
            "grid_auto_flow": null,
            "grid_auto_rows": null,
            "grid_column": null,
            "grid_gap": null,
            "grid_row": null,
            "grid_template_areas": null,
            "grid_template_columns": null,
            "grid_template_rows": null,
            "height": null,
            "justify_content": null,
            "justify_items": null,
            "left": null,
            "margin": null,
            "max_height": null,
            "max_width": null,
            "min_height": null,
            "min_width": null,
            "object_fit": null,
            "object_position": null,
            "order": null,
            "overflow": null,
            "overflow_x": null,
            "overflow_y": null,
            "padding": null,
            "right": null,
            "top": null,
            "visibility": null,
            "width": null
          }
        },
        "9b751db66d9c42968a528ceca7585f3d": {
          "model_module": "@jupyter-widgets/controls",
          "model_name": "DescriptionStyleModel",
          "model_module_version": "1.5.0",
          "state": {
            "_model_module": "@jupyter-widgets/controls",
            "_model_module_version": "1.5.0",
            "_model_name": "DescriptionStyleModel",
            "_view_count": null,
            "_view_module": "@jupyter-widgets/base",
            "_view_module_version": "1.2.0",
            "_view_name": "StyleView",
            "description_width": ""
          }
        },
        "d090cb4ccf1840ce9d67f52021ff3d9c": {
          "model_module": "@jupyter-widgets/controls",
          "model_name": "HBoxModel",
          "model_module_version": "1.5.0",
          "state": {
            "_dom_classes": [],
            "_model_module": "@jupyter-widgets/controls",
            "_model_module_version": "1.5.0",
            "_model_name": "HBoxModel",
            "_view_count": null,
            "_view_module": "@jupyter-widgets/controls",
            "_view_module_version": "1.5.0",
            "_view_name": "HBoxView",
            "box_style": "",
            "children": [
              "IPY_MODEL_e014fb58d7af41dfb19142f27d4a5175",
              "IPY_MODEL_f2522d0404aa4946a8685c7eb17b1472",
              "IPY_MODEL_c769ab41a6214556930983ed63ef3f6e"
            ],
            "layout": "IPY_MODEL_259ec41df1724a19b861a922a98cf9cc"
          }
        },
        "e014fb58d7af41dfb19142f27d4a5175": {
          "model_module": "@jupyter-widgets/controls",
          "model_name": "HTMLModel",
          "model_module_version": "1.5.0",
          "state": {
            "_dom_classes": [],
            "_model_module": "@jupyter-widgets/controls",
            "_model_module_version": "1.5.0",
            "_model_name": "HTMLModel",
            "_view_count": null,
            "_view_module": "@jupyter-widgets/controls",
            "_view_module_version": "1.5.0",
            "_view_name": "HTMLView",
            "description": "",
            "description_tooltip": null,
            "layout": "IPY_MODEL_9f7911e098b1498c9f4f09758bd0f030",
            "placeholder": "​",
            "style": "IPY_MODEL_36501c6110014a088daa80cc25fedbb1",
            "value": "Sanity Checking: "
          }
        },
        "f2522d0404aa4946a8685c7eb17b1472": {
          "model_module": "@jupyter-widgets/controls",
          "model_name": "FloatProgressModel",
          "model_module_version": "1.5.0",
          "state": {
            "_dom_classes": [],
            "_model_module": "@jupyter-widgets/controls",
            "_model_module_version": "1.5.0",
            "_model_name": "FloatProgressModel",
            "_view_count": null,
            "_view_module": "@jupyter-widgets/controls",
            "_view_module_version": "1.5.0",
            "_view_name": "ProgressView",
            "bar_style": "info",
            "description": "",
            "description_tooltip": null,
            "layout": "IPY_MODEL_195f2567ef0b4563a723be66a5c64e6c",
            "max": 1,
            "min": 0,
            "orientation": "horizontal",
            "style": "IPY_MODEL_546f2daff3b3424080ba1e0f294d5461",
            "value": 1
          }
        },
        "c769ab41a6214556930983ed63ef3f6e": {
          "model_module": "@jupyter-widgets/controls",
          "model_name": "HTMLModel",
          "model_module_version": "1.5.0",
          "state": {
            "_dom_classes": [],
            "_model_module": "@jupyter-widgets/controls",
            "_model_module_version": "1.5.0",
            "_model_name": "HTMLModel",
            "_view_count": null,
            "_view_module": "@jupyter-widgets/controls",
            "_view_module_version": "1.5.0",
            "_view_name": "HTMLView",
            "description": "",
            "description_tooltip": null,
            "layout": "IPY_MODEL_0130c8dc84f44290b325266439c43143",
            "placeholder": "​",
            "style": "IPY_MODEL_951bbc4aaeba48aa89015e9114c9aaf2",
            "value": " 2/? [00:37&lt;00:00,  0.05it/s]"
          }
        },
        "259ec41df1724a19b861a922a98cf9cc": {
          "model_module": "@jupyter-widgets/base",
          "model_name": "LayoutModel",
          "model_module_version": "1.2.0",
          "state": {
            "_model_module": "@jupyter-widgets/base",
            "_model_module_version": "1.2.0",
            "_model_name": "LayoutModel",
            "_view_count": null,
            "_view_module": "@jupyter-widgets/base",
            "_view_module_version": "1.2.0",
            "_view_name": "LayoutView",
            "align_content": null,
            "align_items": null,
            "align_self": null,
            "border": null,
            "bottom": null,
            "display": "inline-flex",
            "flex": null,
            "flex_flow": "row wrap",
            "grid_area": null,
            "grid_auto_columns": null,
            "grid_auto_flow": null,
            "grid_auto_rows": null,
            "grid_column": null,
            "grid_gap": null,
            "grid_row": null,
            "grid_template_areas": null,
            "grid_template_columns": null,
            "grid_template_rows": null,
            "height": null,
            "justify_content": null,
            "justify_items": null,
            "left": null,
            "margin": null,
            "max_height": null,
            "max_width": null,
            "min_height": null,
            "min_width": null,
            "object_fit": null,
            "object_position": null,
            "order": null,
            "overflow": null,
            "overflow_x": null,
            "overflow_y": null,
            "padding": null,
            "right": null,
            "top": null,
            "visibility": "hidden",
            "width": "100%"
          }
        },
        "9f7911e098b1498c9f4f09758bd0f030": {
          "model_module": "@jupyter-widgets/base",
          "model_name": "LayoutModel",
          "model_module_version": "1.2.0",
          "state": {
            "_model_module": "@jupyter-widgets/base",
            "_model_module_version": "1.2.0",
            "_model_name": "LayoutModel",
            "_view_count": null,
            "_view_module": "@jupyter-widgets/base",
            "_view_module_version": "1.2.0",
            "_view_name": "LayoutView",
            "align_content": null,
            "align_items": null,
            "align_self": null,
            "border": null,
            "bottom": null,
            "display": null,
            "flex": null,
            "flex_flow": null,
            "grid_area": null,
            "grid_auto_columns": null,
            "grid_auto_flow": null,
            "grid_auto_rows": null,
            "grid_column": null,
            "grid_gap": null,
            "grid_row": null,
            "grid_template_areas": null,
            "grid_template_columns": null,
            "grid_template_rows": null,
            "height": null,
            "justify_content": null,
            "justify_items": null,
            "left": null,
            "margin": null,
            "max_height": null,
            "max_width": null,
            "min_height": null,
            "min_width": null,
            "object_fit": null,
            "object_position": null,
            "order": null,
            "overflow": null,
            "overflow_x": null,
            "overflow_y": null,
            "padding": null,
            "right": null,
            "top": null,
            "visibility": null,
            "width": null
          }
        },
        "36501c6110014a088daa80cc25fedbb1": {
          "model_module": "@jupyter-widgets/controls",
          "model_name": "DescriptionStyleModel",
          "model_module_version": "1.5.0",
          "state": {
            "_model_module": "@jupyter-widgets/controls",
            "_model_module_version": "1.5.0",
            "_model_name": "DescriptionStyleModel",
            "_view_count": null,
            "_view_module": "@jupyter-widgets/base",
            "_view_module_version": "1.2.0",
            "_view_name": "StyleView",
            "description_width": ""
          }
        },
        "195f2567ef0b4563a723be66a5c64e6c": {
          "model_module": "@jupyter-widgets/base",
          "model_name": "LayoutModel",
          "model_module_version": "1.2.0",
          "state": {
            "_model_module": "@jupyter-widgets/base",
            "_model_module_version": "1.2.0",
            "_model_name": "LayoutModel",
            "_view_count": null,
            "_view_module": "@jupyter-widgets/base",
            "_view_module_version": "1.2.0",
            "_view_name": "LayoutView",
            "align_content": null,
            "align_items": null,
            "align_self": null,
            "border": null,
            "bottom": null,
            "display": null,
            "flex": "2",
            "flex_flow": null,
            "grid_area": null,
            "grid_auto_columns": null,
            "grid_auto_flow": null,
            "grid_auto_rows": null,
            "grid_column": null,
            "grid_gap": null,
            "grid_row": null,
            "grid_template_areas": null,
            "grid_template_columns": null,
            "grid_template_rows": null,
            "height": null,
            "justify_content": null,
            "justify_items": null,
            "left": null,
            "margin": null,
            "max_height": null,
            "max_width": null,
            "min_height": null,
            "min_width": null,
            "object_fit": null,
            "object_position": null,
            "order": null,
            "overflow": null,
            "overflow_x": null,
            "overflow_y": null,
            "padding": null,
            "right": null,
            "top": null,
            "visibility": null,
            "width": null
          }
        },
        "546f2daff3b3424080ba1e0f294d5461": {
          "model_module": "@jupyter-widgets/controls",
          "model_name": "ProgressStyleModel",
          "model_module_version": "1.5.0",
          "state": {
            "_model_module": "@jupyter-widgets/controls",
            "_model_module_version": "1.5.0",
            "_model_name": "ProgressStyleModel",
            "_view_count": null,
            "_view_module": "@jupyter-widgets/base",
            "_view_module_version": "1.2.0",
            "_view_name": "StyleView",
            "bar_color": null,
            "description_width": ""
          }
        },
        "0130c8dc84f44290b325266439c43143": {
          "model_module": "@jupyter-widgets/base",
          "model_name": "LayoutModel",
          "model_module_version": "1.2.0",
          "state": {
            "_model_module": "@jupyter-widgets/base",
            "_model_module_version": "1.2.0",
            "_model_name": "LayoutModel",
            "_view_count": null,
            "_view_module": "@jupyter-widgets/base",
            "_view_module_version": "1.2.0",
            "_view_name": "LayoutView",
            "align_content": null,
            "align_items": null,
            "align_self": null,
            "border": null,
            "bottom": null,
            "display": null,
            "flex": null,
            "flex_flow": null,
            "grid_area": null,
            "grid_auto_columns": null,
            "grid_auto_flow": null,
            "grid_auto_rows": null,
            "grid_column": null,
            "grid_gap": null,
            "grid_row": null,
            "grid_template_areas": null,
            "grid_template_columns": null,
            "grid_template_rows": null,
            "height": null,
            "justify_content": null,
            "justify_items": null,
            "left": null,
            "margin": null,
            "max_height": null,
            "max_width": null,
            "min_height": null,
            "min_width": null,
            "object_fit": null,
            "object_position": null,
            "order": null,
            "overflow": null,
            "overflow_x": null,
            "overflow_y": null,
            "padding": null,
            "right": null,
            "top": null,
            "visibility": null,
            "width": null
          }
        },
        "951bbc4aaeba48aa89015e9114c9aaf2": {
          "model_module": "@jupyter-widgets/controls",
          "model_name": "DescriptionStyleModel",
          "model_module_version": "1.5.0",
          "state": {
            "_model_module": "@jupyter-widgets/controls",
            "_model_module_version": "1.5.0",
            "_model_name": "DescriptionStyleModel",
            "_view_count": null,
            "_view_module": "@jupyter-widgets/base",
            "_view_module_version": "1.2.0",
            "_view_name": "StyleView",
            "description_width": ""
          }
        },
        "9b99abe24b7a4cbdbb417e11709b1b0c": {
          "model_module": "@jupyter-widgets/controls",
          "model_name": "HBoxModel",
          "model_module_version": "1.5.0",
          "state": {
            "_dom_classes": [],
            "_model_module": "@jupyter-widgets/controls",
            "_model_module_version": "1.5.0",
            "_model_name": "HBoxModel",
            "_view_count": null,
            "_view_module": "@jupyter-widgets/controls",
            "_view_module_version": "1.5.0",
            "_view_name": "HBoxView",
            "box_style": "",
            "children": [
              "IPY_MODEL_9e831ff0e93d47b0b470b83608507927",
              "IPY_MODEL_203498ef5f3648289158f542c084f849",
              "IPY_MODEL_9aa53459ce554b589d4e3ec205a4bfe7"
            ],
            "layout": "IPY_MODEL_73402c5426e247788744e7897b32c338"
          }
        },
        "9e831ff0e93d47b0b470b83608507927": {
          "model_module": "@jupyter-widgets/controls",
          "model_name": "HTMLModel",
          "model_module_version": "1.5.0",
          "state": {
            "_dom_classes": [],
            "_model_module": "@jupyter-widgets/controls",
            "_model_module_version": "1.5.0",
            "_model_name": "HTMLModel",
            "_view_count": null,
            "_view_module": "@jupyter-widgets/controls",
            "_view_module_version": "1.5.0",
            "_view_name": "HTMLView",
            "description": "",
            "description_tooltip": null,
            "layout": "IPY_MODEL_498153d19bb8444796a02d2af6149c97",
            "placeholder": "​",
            "style": "IPY_MODEL_93b3f4f4b4ea46f58b4f8ef40f4d72ee",
            "value": "Epoch 0:   0%"
          }
        },
        "203498ef5f3648289158f542c084f849": {
          "model_module": "@jupyter-widgets/controls",
          "model_name": "FloatProgressModel",
          "model_module_version": "1.5.0",
          "state": {
            "_dom_classes": [],
            "_model_module": "@jupyter-widgets/controls",
            "_model_module_version": "1.5.0",
            "_model_name": "FloatProgressModel",
            "_view_count": null,
            "_view_module": "@jupyter-widgets/controls",
            "_view_module_version": "1.5.0",
            "_view_name": "ProgressView",
            "bar_style": "",
            "description": "",
            "description_tooltip": null,
            "layout": "IPY_MODEL_dc21e9d9b5c443e5b2f6a354a2214108",
            "max": 53540,
            "min": 0,
            "orientation": "horizontal",
            "style": "IPY_MODEL_554795111e5a405cbd70874f357886e5",
            "value": 1
          }
        },
        "9aa53459ce554b589d4e3ec205a4bfe7": {
          "model_module": "@jupyter-widgets/controls",
          "model_name": "HTMLModel",
          "model_module_version": "1.5.0",
          "state": {
            "_dom_classes": [],
            "_model_module": "@jupyter-widgets/controls",
            "_model_module_version": "1.5.0",
            "_model_name": "HTMLModel",
            "_view_count": null,
            "_view_module": "@jupyter-widgets/controls",
            "_view_module_version": "1.5.0",
            "_view_name": "HTMLView",
            "description": "",
            "description_tooltip": null,
            "layout": "IPY_MODEL_d7448109e55e4b33a3b0481836a8a894",
            "placeholder": "​",
            "style": "IPY_MODEL_6c3de8d100db4766a1b3460639a9f5de",
            "value": " 1/53540 [01:01&lt;915:05:01,  0.02it/s, v_num=0, train acc=0.000, train loss=11.70]"
          }
        },
        "73402c5426e247788744e7897b32c338": {
          "model_module": "@jupyter-widgets/base",
          "model_name": "LayoutModel",
          "model_module_version": "1.2.0",
          "state": {
            "_model_module": "@jupyter-widgets/base",
            "_model_module_version": "1.2.0",
            "_model_name": "LayoutModel",
            "_view_count": null,
            "_view_module": "@jupyter-widgets/base",
            "_view_module_version": "1.2.0",
            "_view_name": "LayoutView",
            "align_content": null,
            "align_items": null,
            "align_self": null,
            "border": null,
            "bottom": null,
            "display": "inline-flex",
            "flex": null,
            "flex_flow": "row wrap",
            "grid_area": null,
            "grid_auto_columns": null,
            "grid_auto_flow": null,
            "grid_auto_rows": null,
            "grid_column": null,
            "grid_gap": null,
            "grid_row": null,
            "grid_template_areas": null,
            "grid_template_columns": null,
            "grid_template_rows": null,
            "height": null,
            "justify_content": null,
            "justify_items": null,
            "left": null,
            "margin": null,
            "max_height": null,
            "max_width": null,
            "min_height": null,
            "min_width": null,
            "object_fit": null,
            "object_position": null,
            "order": null,
            "overflow": null,
            "overflow_x": null,
            "overflow_y": null,
            "padding": null,
            "right": null,
            "top": null,
            "visibility": null,
            "width": "100%"
          }
        },
        "498153d19bb8444796a02d2af6149c97": {
          "model_module": "@jupyter-widgets/base",
          "model_name": "LayoutModel",
          "model_module_version": "1.2.0",
          "state": {
            "_model_module": "@jupyter-widgets/base",
            "_model_module_version": "1.2.0",
            "_model_name": "LayoutModel",
            "_view_count": null,
            "_view_module": "@jupyter-widgets/base",
            "_view_module_version": "1.2.0",
            "_view_name": "LayoutView",
            "align_content": null,
            "align_items": null,
            "align_self": null,
            "border": null,
            "bottom": null,
            "display": null,
            "flex": null,
            "flex_flow": null,
            "grid_area": null,
            "grid_auto_columns": null,
            "grid_auto_flow": null,
            "grid_auto_rows": null,
            "grid_column": null,
            "grid_gap": null,
            "grid_row": null,
            "grid_template_areas": null,
            "grid_template_columns": null,
            "grid_template_rows": null,
            "height": null,
            "justify_content": null,
            "justify_items": null,
            "left": null,
            "margin": null,
            "max_height": null,
            "max_width": null,
            "min_height": null,
            "min_width": null,
            "object_fit": null,
            "object_position": null,
            "order": null,
            "overflow": null,
            "overflow_x": null,
            "overflow_y": null,
            "padding": null,
            "right": null,
            "top": null,
            "visibility": null,
            "width": null
          }
        },
        "93b3f4f4b4ea46f58b4f8ef40f4d72ee": {
          "model_module": "@jupyter-widgets/controls",
          "model_name": "DescriptionStyleModel",
          "model_module_version": "1.5.0",
          "state": {
            "_model_module": "@jupyter-widgets/controls",
            "_model_module_version": "1.5.0",
            "_model_name": "DescriptionStyleModel",
            "_view_count": null,
            "_view_module": "@jupyter-widgets/base",
            "_view_module_version": "1.2.0",
            "_view_name": "StyleView",
            "description_width": ""
          }
        },
        "dc21e9d9b5c443e5b2f6a354a2214108": {
          "model_module": "@jupyter-widgets/base",
          "model_name": "LayoutModel",
          "model_module_version": "1.2.0",
          "state": {
            "_model_module": "@jupyter-widgets/base",
            "_model_module_version": "1.2.0",
            "_model_name": "LayoutModel",
            "_view_count": null,
            "_view_module": "@jupyter-widgets/base",
            "_view_module_version": "1.2.0",
            "_view_name": "LayoutView",
            "align_content": null,
            "align_items": null,
            "align_self": null,
            "border": null,
            "bottom": null,
            "display": null,
            "flex": "2",
            "flex_flow": null,
            "grid_area": null,
            "grid_auto_columns": null,
            "grid_auto_flow": null,
            "grid_auto_rows": null,
            "grid_column": null,
            "grid_gap": null,
            "grid_row": null,
            "grid_template_areas": null,
            "grid_template_columns": null,
            "grid_template_rows": null,
            "height": null,
            "justify_content": null,
            "justify_items": null,
            "left": null,
            "margin": null,
            "max_height": null,
            "max_width": null,
            "min_height": null,
            "min_width": null,
            "object_fit": null,
            "object_position": null,
            "order": null,
            "overflow": null,
            "overflow_x": null,
            "overflow_y": null,
            "padding": null,
            "right": null,
            "top": null,
            "visibility": null,
            "width": null
          }
        },
        "554795111e5a405cbd70874f357886e5": {
          "model_module": "@jupyter-widgets/controls",
          "model_name": "ProgressStyleModel",
          "model_module_version": "1.5.0",
          "state": {
            "_model_module": "@jupyter-widgets/controls",
            "_model_module_version": "1.5.0",
            "_model_name": "ProgressStyleModel",
            "_view_count": null,
            "_view_module": "@jupyter-widgets/base",
            "_view_module_version": "1.2.0",
            "_view_name": "StyleView",
            "bar_color": null,
            "description_width": ""
          }
        },
        "d7448109e55e4b33a3b0481836a8a894": {
          "model_module": "@jupyter-widgets/base",
          "model_name": "LayoutModel",
          "model_module_version": "1.2.0",
          "state": {
            "_model_module": "@jupyter-widgets/base",
            "_model_module_version": "1.2.0",
            "_model_name": "LayoutModel",
            "_view_count": null,
            "_view_module": "@jupyter-widgets/base",
            "_view_module_version": "1.2.0",
            "_view_name": "LayoutView",
            "align_content": null,
            "align_items": null,
            "align_self": null,
            "border": null,
            "bottom": null,
            "display": null,
            "flex": null,
            "flex_flow": null,
            "grid_area": null,
            "grid_auto_columns": null,
            "grid_auto_flow": null,
            "grid_auto_rows": null,
            "grid_column": null,
            "grid_gap": null,
            "grid_row": null,
            "grid_template_areas": null,
            "grid_template_columns": null,
            "grid_template_rows": null,
            "height": null,
            "justify_content": null,
            "justify_items": null,
            "left": null,
            "margin": null,
            "max_height": null,
            "max_width": null,
            "min_height": null,
            "min_width": null,
            "object_fit": null,
            "object_position": null,
            "order": null,
            "overflow": null,
            "overflow_x": null,
            "overflow_y": null,
            "padding": null,
            "right": null,
            "top": null,
            "visibility": null,
            "width": null
          }
        },
        "6c3de8d100db4766a1b3460639a9f5de": {
          "model_module": "@jupyter-widgets/controls",
          "model_name": "DescriptionStyleModel",
          "model_module_version": "1.5.0",
          "state": {
            "_model_module": "@jupyter-widgets/controls",
            "_model_module_version": "1.5.0",
            "_model_name": "DescriptionStyleModel",
            "_view_count": null,
            "_view_module": "@jupyter-widgets/base",
            "_view_module_version": "1.2.0",
            "_view_name": "StyleView",
            "description_width": ""
          }
        }
      }
    },
    "accelerator": "GPU"
  },
  "cells": [
    {
      "cell_type": "markdown",
      "metadata": {
        "id": "view-in-github",
        "colab_type": "text"
      },
      "source": [
        "<a href=\"https://colab.research.google.com/github/nathan-young1/Unlocking-Languages-Dive-into-Transformer-based-Translation-with-PyTorch/blob/main/Unlocking_Languages_Dive_into_Transformer_based_Translation_with_PyTorch.ipynb\" target=\"_parent\"><img src=\"https://colab.research.google.com/assets/colab-badge.svg\" alt=\"Open In Colab\"/></a>"
      ]
    },
    {
      "cell_type": "markdown",
      "source": [
        "# **English to French Translation with Transformers**\n",
        "\n",
        "In this notebook, you'll learn how to build your own 🤖 English → French translator using Transformers, the state-of-the-art model for natural language processing. We'll use the The Europarl parallel corpus is extracted from the proceedings of the European Parliament from 1996 to 2011[[EN->FR Dataset](https://www.statmt.org/europarl/)] and train the model with PyTorch Lightning⚡️, a framework that makes training fast and easy.\n",
        "\n",
        "You'll also:\n",
        "\n",
        "- ⚙️ Preprocess your text data into token tensors\n",
        "- 🧑‍🔧 Design an encoder-decoder transformer architecture in PyTorch\n",
        "- 💬 Translate English sentences into French\n",
        "\n",
        "Transformers are amazing models that use self-attention to capture the meaning and context of words. You'll see how they can help you create a powerful and elegant translator.\n",
        "\n",
        "🙂 Let's get started!\n"
      ],
      "metadata": {
        "id": "2iembYmVERzi"
      }
    },
    {
      "cell_type": "markdown",
      "source": [
        "# **📊 Data Exploration**\n",
        "\n",
        "In this tutorial, we will explore the **Europarl** dataset, which is a widely used benchmark for evaluating the performance of machine translation systems. The dataset consists of the speeches delivered at the **European Parliament**, covering a variety of topics and domains. These speeches are available in **11 different languages**.\n",
        "\n",
        "The creation of the dataset was lead by **Philipp Koehn**, a leading researcher and author in the field of machine translation.\n",
        "\n",
        "Here we will focus on just the **English to French** translation pair."
      ],
      "metadata": {
        "id": "WjxkNBecMLd5"
      }
    },
    {
      "cell_type": "code",
      "source": [
        "# Downloading the Dataset\n",
        "import requests\n",
        "import os\n",
        "\n",
        "url = \"http://www.statmt.org/europarl/v7/fr-en.tgz\"\n",
        "filename = \"fr-en.tgz\"\n",
        "\n",
        "if not os.path.exists(filename):\n",
        "    r = requests.get(url)\n",
        "    with open(filename, \"wb\") as w:\n",
        "        w.write(r.content)\n",
        "    print(\"File downloaded\")\n",
        "else:\n",
        "    print(\"File already exists\")"
      ],
      "metadata": {
        "colab": {
          "base_uri": "https://localhost:8080/"
        },
        "id": "ZQNf8d1qaYhW",
        "outputId": "c30698df-30a7-49a7-d33d-ecef307876c7"
      },
      "execution_count": 40,
      "outputs": [
        {
          "output_type": "stream",
          "name": "stdout",
          "text": [
            "File downloaded\n"
          ]
        }
      ]
    },
    {
      "cell_type": "code",
      "source": [
        "# Import the module for working with compressed tar files\n",
        "import tarfile\n",
        "\n",
        "# Open a gzipped tar file in read mode\n",
        "with tarfile.open(\"fr-en.tgz\", \"r:gz\") as tar:\n",
        "    # Get a TarFile object for the archive\n",
        "    # Extract all the files and directories to the current folder\n",
        "    tar.extractall()"
      ],
      "metadata": {
        "id": "h9kuN9l-agv6"
      },
      "execution_count": 41,
      "outputs": []
    },
    {
      "cell_type": "markdown",
      "source": [
        "#### **Preprocessing**\n",
        "We will perform text cleaning for Neural Machine Translation (NMT) Model.\n",
        "This is useful because it can:\n",
        "\n",
        "- Remove irrelevant or noisy information, such as HTML tags, punctuation, capitalization, or non-printable characters, that might confuse the NMT model or reduce its performance.\n",
        "\n",
        "- Normalize the text to a consistent format, such as lowercase letters, UTF-8 encoding e.t.c. That can be easily processed by the NMT model.\n",
        "\n",
        "And many other benefits....\n",
        "\n",
        "> By cleaning the text, we can make it more suitable for NMT and improve the quality and accuracy of the translation output. 😊"
      ],
      "metadata": {
        "id": "yrO_t-tEbij8"
      }
    },
    {
      "cell_type": "code",
      "source": [
        "import re\n",
        "\n",
        "# Define a function for text cleaning\n",
        "def clean_text(text):\n",
        "\n",
        "    # Convert text to lowercase\n",
        "    text = str(text).lower().strip()\n",
        "\n",
        "    # Remove the \\n at the end of each line in the file\n",
        "    text = text.rstrip('\\n')\n",
        "\n",
        "    # Remove HTML tags and non-alphanumeric characters\n",
        "    text = re.sub(r\"<[^>]+>\", \"\", text)\n",
        "    text = re.sub(r\"[^a-zA-ZÀ-ÿ0-9\\s.,;!?':()\\[\\]{}-]\", \" \", text)  # Keep selected punctuation marks, symbols and apostrophes\n",
        "\n",
        "    # Remove excessive whitespace (more than one space)\n",
        "    text = re.sub(r\"\\s+\", \" \", text)\n",
        "\n",
        "    text = text.encode(\"utf-8\", errors=\"ignore\").decode(\"utf-8\")  # Corrected encoding\n",
        "\n",
        "    return text"
      ],
      "metadata": {
        "id": "N3h8-eN9bMwp"
      },
      "execution_count": 20,
      "outputs": []
    },
    {
      "cell_type": "code",
      "source": [
        "import pandas as pd\n",
        "\n",
        "# Read from the two text files, and create a pandas Series object (like a python list[]), and clean the text by\n",
        "# applying our clean_text function to every element.\n",
        "\n",
        "with open('/content/europarl-v7.fr-en.en', 'r') as en_file, open('/content/europarl-v7.fr-en.fr', 'r') as fr_file:\n",
        "    en = pd.Series(en_file.readlines(), name='en').apply(lambda text: clean_text(text))\n",
        "    fr = pd.Series(fr_file.readlines(), name='fr').apply(lambda text: clean_text(text))"
      ],
      "metadata": {
        "id": "A5zBTPoidjeX"
      },
      "execution_count": 43,
      "outputs": []
    },
    {
      "cell_type": "code",
      "source": [
        "# Let's merge the two series objects into a Pandas Dataframe, which will create two columns\n",
        "# 'en' and 'fr' corresponding to the sentence pairs.\n",
        "\n",
        "translation_df = pd.concat([en, fr], axis=1)\n",
        "\n",
        "# Show 5 sample rows of the dataframe.\n",
        "translation_df.head()"
      ],
      "metadata": {
        "colab": {
          "base_uri": "https://localhost:8080/",
          "height": 206
        },
        "id": "x3WiDCRbf7an",
        "outputId": "381d6068-23a9-44e0-e8be-ce6154f6eb00"
      },
      "execution_count": 44,
      "outputs": [
        {
          "output_type": "execute_result",
          "data": {
            "text/plain": [
              "                                                  en  \\\n",
              "0                          resumption of the session   \n",
              "1  i declare resumed the session of the european ...   \n",
              "2  although, as you will have seen, the dreaded '...   \n",
              "3  you have requested a debate on this subject in...   \n",
              "4  in the meantime, i should like to observe a mi...   \n",
              "\n",
              "                                                  fr  \n",
              "0                              reprise de la session  \n",
              "1  je déclare reprise la session du parlement eur...  \n",
              "2  comme vous avez pu le constater, le grand bogu...  \n",
              "3  vous avez souhaité un débat à ce sujet dans le...  \n",
              "4  en attendant, je souhaiterais, comme un certai...  "
            ],
            "text/html": [
              "\n",
              "  <div id=\"df-d6776755-91ac-4aa2-841b-e9055c70a22a\" class=\"colab-df-container\">\n",
              "    <div>\n",
              "<style scoped>\n",
              "    .dataframe tbody tr th:only-of-type {\n",
              "        vertical-align: middle;\n",
              "    }\n",
              "\n",
              "    .dataframe tbody tr th {\n",
              "        vertical-align: top;\n",
              "    }\n",
              "\n",
              "    .dataframe thead th {\n",
              "        text-align: right;\n",
              "    }\n",
              "</style>\n",
              "<table border=\"1\" class=\"dataframe\">\n",
              "  <thead>\n",
              "    <tr style=\"text-align: right;\">\n",
              "      <th></th>\n",
              "      <th>en</th>\n",
              "      <th>fr</th>\n",
              "    </tr>\n",
              "  </thead>\n",
              "  <tbody>\n",
              "    <tr>\n",
              "      <th>0</th>\n",
              "      <td>resumption of the session</td>\n",
              "      <td>reprise de la session</td>\n",
              "    </tr>\n",
              "    <tr>\n",
              "      <th>1</th>\n",
              "      <td>i declare resumed the session of the european ...</td>\n",
              "      <td>je déclare reprise la session du parlement eur...</td>\n",
              "    </tr>\n",
              "    <tr>\n",
              "      <th>2</th>\n",
              "      <td>although, as you will have seen, the dreaded '...</td>\n",
              "      <td>comme vous avez pu le constater, le grand bogu...</td>\n",
              "    </tr>\n",
              "    <tr>\n",
              "      <th>3</th>\n",
              "      <td>you have requested a debate on this subject in...</td>\n",
              "      <td>vous avez souhaité un débat à ce sujet dans le...</td>\n",
              "    </tr>\n",
              "    <tr>\n",
              "      <th>4</th>\n",
              "      <td>in the meantime, i should like to observe a mi...</td>\n",
              "      <td>en attendant, je souhaiterais, comme un certai...</td>\n",
              "    </tr>\n",
              "  </tbody>\n",
              "</table>\n",
              "</div>\n",
              "    <div class=\"colab-df-buttons\">\n",
              "\n",
              "  <div class=\"colab-df-container\">\n",
              "    <button class=\"colab-df-convert\" onclick=\"convertToInteractive('df-d6776755-91ac-4aa2-841b-e9055c70a22a')\"\n",
              "            title=\"Convert this dataframe to an interactive table.\"\n",
              "            style=\"display:none;\">\n",
              "\n",
              "  <svg xmlns=\"http://www.w3.org/2000/svg\" height=\"24px\" viewBox=\"0 -960 960 960\">\n",
              "    <path d=\"M120-120v-720h720v720H120Zm60-500h600v-160H180v160Zm220 220h160v-160H400v160Zm0 220h160v-160H400v160ZM180-400h160v-160H180v160Zm440 0h160v-160H620v160ZM180-180h160v-160H180v160Zm440 0h160v-160H620v160Z\"/>\n",
              "  </svg>\n",
              "    </button>\n",
              "\n",
              "  <style>\n",
              "    .colab-df-container {\n",
              "      display:flex;\n",
              "      gap: 12px;\n",
              "    }\n",
              "\n",
              "    .colab-df-convert {\n",
              "      background-color: #E8F0FE;\n",
              "      border: none;\n",
              "      border-radius: 50%;\n",
              "      cursor: pointer;\n",
              "      display: none;\n",
              "      fill: #1967D2;\n",
              "      height: 32px;\n",
              "      padding: 0 0 0 0;\n",
              "      width: 32px;\n",
              "    }\n",
              "\n",
              "    .colab-df-convert:hover {\n",
              "      background-color: #E2EBFA;\n",
              "      box-shadow: 0px 1px 2px rgba(60, 64, 67, 0.3), 0px 1px 3px 1px rgba(60, 64, 67, 0.15);\n",
              "      fill: #174EA6;\n",
              "    }\n",
              "\n",
              "    .colab-df-buttons div {\n",
              "      margin-bottom: 4px;\n",
              "    }\n",
              "\n",
              "    [theme=dark] .colab-df-convert {\n",
              "      background-color: #3B4455;\n",
              "      fill: #D2E3FC;\n",
              "    }\n",
              "\n",
              "    [theme=dark] .colab-df-convert:hover {\n",
              "      background-color: #434B5C;\n",
              "      box-shadow: 0px 1px 3px 1px rgba(0, 0, 0, 0.15);\n",
              "      filter: drop-shadow(0px 1px 2px rgba(0, 0, 0, 0.3));\n",
              "      fill: #FFFFFF;\n",
              "    }\n",
              "  </style>\n",
              "\n",
              "    <script>\n",
              "      const buttonEl =\n",
              "        document.querySelector('#df-d6776755-91ac-4aa2-841b-e9055c70a22a button.colab-df-convert');\n",
              "      buttonEl.style.display =\n",
              "        google.colab.kernel.accessAllowed ? 'block' : 'none';\n",
              "\n",
              "      async function convertToInteractive(key) {\n",
              "        const element = document.querySelector('#df-d6776755-91ac-4aa2-841b-e9055c70a22a');\n",
              "        const dataTable =\n",
              "          await google.colab.kernel.invokeFunction('convertToInteractive',\n",
              "                                                    [key], {});\n",
              "        if (!dataTable) return;\n",
              "\n",
              "        const docLinkHtml = 'Like what you see? Visit the ' +\n",
              "          '<a target=\"_blank\" href=https://colab.research.google.com/notebooks/data_table.ipynb>data table notebook</a>'\n",
              "          + ' to learn more about interactive tables.';\n",
              "        element.innerHTML = '';\n",
              "        dataTable['output_type'] = 'display_data';\n",
              "        await google.colab.output.renderOutput(dataTable, element);\n",
              "        const docLink = document.createElement('div');\n",
              "        docLink.innerHTML = docLinkHtml;\n",
              "        element.appendChild(docLink);\n",
              "      }\n",
              "    </script>\n",
              "  </div>\n",
              "\n",
              "\n",
              "<div id=\"df-56f508f7-4c4f-4505-91f2-222106ac6864\">\n",
              "  <button class=\"colab-df-quickchart\" onclick=\"quickchart('df-56f508f7-4c4f-4505-91f2-222106ac6864')\"\n",
              "            title=\"Suggest charts\"\n",
              "            style=\"display:none;\">\n",
              "\n",
              "<svg xmlns=\"http://www.w3.org/2000/svg\" height=\"24px\"viewBox=\"0 0 24 24\"\n",
              "     width=\"24px\">\n",
              "    <g>\n",
              "        <path d=\"M19 3H5c-1.1 0-2 .9-2 2v14c0 1.1.9 2 2 2h14c1.1 0 2-.9 2-2V5c0-1.1-.9-2-2-2zM9 17H7v-7h2v7zm4 0h-2V7h2v10zm4 0h-2v-4h2v4z\"/>\n",
              "    </g>\n",
              "</svg>\n",
              "  </button>\n",
              "\n",
              "<style>\n",
              "  .colab-df-quickchart {\n",
              "      --bg-color: #E8F0FE;\n",
              "      --fill-color: #1967D2;\n",
              "      --hover-bg-color: #E2EBFA;\n",
              "      --hover-fill-color: #174EA6;\n",
              "      --disabled-fill-color: #AAA;\n",
              "      --disabled-bg-color: #DDD;\n",
              "  }\n",
              "\n",
              "  [theme=dark] .colab-df-quickchart {\n",
              "      --bg-color: #3B4455;\n",
              "      --fill-color: #D2E3FC;\n",
              "      --hover-bg-color: #434B5C;\n",
              "      --hover-fill-color: #FFFFFF;\n",
              "      --disabled-bg-color: #3B4455;\n",
              "      --disabled-fill-color: #666;\n",
              "  }\n",
              "\n",
              "  .colab-df-quickchart {\n",
              "    background-color: var(--bg-color);\n",
              "    border: none;\n",
              "    border-radius: 50%;\n",
              "    cursor: pointer;\n",
              "    display: none;\n",
              "    fill: var(--fill-color);\n",
              "    height: 32px;\n",
              "    padding: 0;\n",
              "    width: 32px;\n",
              "  }\n",
              "\n",
              "  .colab-df-quickchart:hover {\n",
              "    background-color: var(--hover-bg-color);\n",
              "    box-shadow: 0 1px 2px rgba(60, 64, 67, 0.3), 0 1px 3px 1px rgba(60, 64, 67, 0.15);\n",
              "    fill: var(--button-hover-fill-color);\n",
              "  }\n",
              "\n",
              "  .colab-df-quickchart-complete:disabled,\n",
              "  .colab-df-quickchart-complete:disabled:hover {\n",
              "    background-color: var(--disabled-bg-color);\n",
              "    fill: var(--disabled-fill-color);\n",
              "    box-shadow: none;\n",
              "  }\n",
              "\n",
              "  .colab-df-spinner {\n",
              "    border: 2px solid var(--fill-color);\n",
              "    border-color: transparent;\n",
              "    border-bottom-color: var(--fill-color);\n",
              "    animation:\n",
              "      spin 1s steps(1) infinite;\n",
              "  }\n",
              "\n",
              "  @keyframes spin {\n",
              "    0% {\n",
              "      border-color: transparent;\n",
              "      border-bottom-color: var(--fill-color);\n",
              "      border-left-color: var(--fill-color);\n",
              "    }\n",
              "    20% {\n",
              "      border-color: transparent;\n",
              "      border-left-color: var(--fill-color);\n",
              "      border-top-color: var(--fill-color);\n",
              "    }\n",
              "    30% {\n",
              "      border-color: transparent;\n",
              "      border-left-color: var(--fill-color);\n",
              "      border-top-color: var(--fill-color);\n",
              "      border-right-color: var(--fill-color);\n",
              "    }\n",
              "    40% {\n",
              "      border-color: transparent;\n",
              "      border-right-color: var(--fill-color);\n",
              "      border-top-color: var(--fill-color);\n",
              "    }\n",
              "    60% {\n",
              "      border-color: transparent;\n",
              "      border-right-color: var(--fill-color);\n",
              "    }\n",
              "    80% {\n",
              "      border-color: transparent;\n",
              "      border-right-color: var(--fill-color);\n",
              "      border-bottom-color: var(--fill-color);\n",
              "    }\n",
              "    90% {\n",
              "      border-color: transparent;\n",
              "      border-bottom-color: var(--fill-color);\n",
              "    }\n",
              "  }\n",
              "</style>\n",
              "\n",
              "  <script>\n",
              "    async function quickchart(key) {\n",
              "      const quickchartButtonEl =\n",
              "        document.querySelector('#' + key + ' button');\n",
              "      quickchartButtonEl.disabled = true;  // To prevent multiple clicks.\n",
              "      quickchartButtonEl.classList.add('colab-df-spinner');\n",
              "      try {\n",
              "        const charts = await google.colab.kernel.invokeFunction(\n",
              "            'suggestCharts', [key], {});\n",
              "      } catch (error) {\n",
              "        console.error('Error during call to suggestCharts:', error);\n",
              "      }\n",
              "      quickchartButtonEl.classList.remove('colab-df-spinner');\n",
              "      quickchartButtonEl.classList.add('colab-df-quickchart-complete');\n",
              "    }\n",
              "    (() => {\n",
              "      let quickchartButtonEl =\n",
              "        document.querySelector('#df-56f508f7-4c4f-4505-91f2-222106ac6864 button');\n",
              "      quickchartButtonEl.style.display =\n",
              "        google.colab.kernel.accessAllowed ? 'block' : 'none';\n",
              "    })();\n",
              "  </script>\n",
              "</div>\n",
              "\n",
              "    </div>\n",
              "  </div>\n"
            ]
          },
          "metadata": {},
          "execution_count": 44
        }
      ]
    },
    {
      "cell_type": "code",
      "source": [
        "# There are just above 2 Million sentence pairs.\n",
        "len(translation_df)"
      ],
      "metadata": {
        "colab": {
          "base_uri": "https://localhost:8080/"
        },
        "id": "sbZL-KKlgjWe",
        "outputId": "f19ab989-67bf-4189-d851-f12c76ad9de0"
      },
      "execution_count": null,
      "outputs": [
        {
          "output_type": "execute_result",
          "data": {
            "text/plain": [
              "2007723"
            ]
          },
          "metadata": {},
          "execution_count": 8
        }
      ]
    },
    {
      "cell_type": "code",
      "source": [
        "# We will Create an SQLite Database for the dataframe for faster access to specific lines.\n",
        "from sqlalchemy import create_engine\n",
        "\n",
        "DATABASE_NAME = 'translation.db'\n",
        "TABLE_NAME = 'en_fr'\n",
        "\n",
        "# Create a SQLite database\n",
        "engine = create_engine(f'sqlite:///{DATABASE_NAME}')\n",
        "\n",
        "# store the pandas dataframe in the created Sqlite db.\n",
        "translation_df.to_sql(TABLE_NAME, engine, if_exists='append')\n",
        "\n",
        "print(f'Moved to sqlite db')"
      ],
      "metadata": {
        "colab": {
          "base_uri": "https://localhost:8080/"
        },
        "id": "2AXINywIgy8y",
        "outputId": "1e3c4730-4c7e-42b1-faa2-ccac48d35b8a"
      },
      "execution_count": 45,
      "outputs": [
        {
          "output_type": "stream",
          "name": "stdout",
          "text": [
            "Moved to sqlite db\n"
          ]
        }
      ]
    },
    {
      "cell_type": "code",
      "source": [
        "TRANSLATION_DB_FILE_PATH = '/content/translation.db'"
      ],
      "metadata": {
        "id": "kJXEkgzfh2rS"
      },
      "execution_count": 46,
      "outputs": []
    },
    {
      "cell_type": "markdown",
      "source": [
        "# **Text Tokenization**\n",
        "\n",
        "Text tokenization is a key step in natural language processing (NLP) that enables computers to understand human language. It converts text into numerical representations that are easier for machines to interpret.\n",
        "\n",
        "<br>\n",
        "\n",
        "### **Why Tokenize Text ❓**\n",
        "\n",
        "Human communication has structure through words, sentences, grammar, and so on. Tokenization exposes this structure so that machines can discover patterns, relationships, and meaning. It splits text into smaller units called tokens that can be assigned numerical values.\n",
        "\n",
        "Common types of tokens are:\n",
        "\n",
        "- **Words**: Words are the basic units of meaning in language, such as \"love\", \"Paris\", or \"the\".\n",
        "\n",
        "- **Subwords**: Subwords are parts of words that have some meaning or function, such as prefixes, suffixes, or stems.\n",
        "\n",
        "Without tokenization, text is just a sequence of characters without shape or meaning. Tokens add form that machines can process.\n",
        "\n",
        "<br>\n",
        "\n",
        "### **Challenges in Tokenization 🚧**\n",
        "\n",
        "Tokenizing human text is challenging because languages have complex and diverse rules:\n",
        "\n",
        "- Word spaces vary across languages. Some languages, such as Chinese and Japanese, do not use whitespace to separate words.\n",
        "\n",
        "- Made-up words, such as names, slang, or acronyms, may not be recognized or split correctly by tokenizers.\n",
        "\n",
        "- The same word can have different meanings depending on the context. Capturing the nuances of language is difficult for machines.\n",
        "\n",
        "Good tokenizers handle these challenges with techniques such as vocabulary lists, multi-word tokens, word splitting rules, and more.\n",
        "\n",
        "<br>\n",
        "\n",
        "### **Assigning Meaning Through Embeddings 📈**\n",
        "\n",
        "Tokenization structures text, embeddings provide meaning. They map the tokens to numerical vectors that capture its information in the language. Similar tokens have similar embeddings (e.g eat & drink, walk & run, cat & dog e.t.c)\n",
        "\n",
        "**Note**: We will come back to this later...\n"
      ],
      "metadata": {
        "id": "WYI7IzGMRsg1"
      }
    },
    {
      "cell_type": "markdown",
      "source": [
        "# Using a Tokenizer 🛠️\n",
        "\n",
        "Now that you know what text tokenization is and why it is important, let's see how we can do it in practice. We will use a pretrained multi-lingual tokenizer from the **Hugging Face Tokenizers Library** for both English and French texts.\n",
        "\n",
        "**Here are some of the steps performed by the tokenizer:**\n",
        "\n",
        "1. The tokenizer uses **WordPiece**, a way to split words into smaller parts that make sense. For example, the word \"Transformer\" can be split into \"Trans\" and \"former\". This helps the computer to learn new words and save space.\n",
        "\n",
        "    WordPiece works by finding the most common parts of words in a text and combining them together. For example, if the text has many words that end with \"ing\", WordPiece will merge \"i\", \"n\", and \"g\" into one part. **This way, having seen \"eat\" and \"ing\", the model can infer the meaning of the word \"eating\".**\n",
        "\n",
        "2. It also **lowercases** the text, and splits on **whitespace** and **punctuation**. For example, the sentence \"Hello world!\" can be split into \"hello\", \"world\", and \"!\".\n",
        "\n",
        "3. It uses **special tokens** to mark the distinctions in the sentence, and to handle unknown or padding tokens. I am going to be using the [CLS] and [SEP] tokens as the beginning and ending of a sentence. For example, the sentence \"I love Paris\" will be tokenized as \"[CLS]\", \"i\", \"love\", \"paris\", \"[SEP]\".\n",
        "\n",
        "So the special tokens are:\n",
        "- \"[CLS]\" for start of sentence\n",
        "- \"[SEP]\" for end of sentence\n",
        "- \"[UNK]\" for unknown token\n",
        "- \"[PAD]\" for padding token\n",
        "\n",
        "<br>\n",
        "📝 Technical Detail: [CLS] and [SEP] are meant as classification and separation tokens in the pretrained tokenizer, but since it does not have [SOS] and [EOS] tokens (which it shouldn't being a BERT tokenizer), I am swapping it's use."
      ],
      "metadata": {
        "id": "icex3fQ0ihdt"
      }
    },
    {
      "cell_type": "code",
      "source": [
        "# Install the necessary library\n",
        "!pip install transformers"
      ],
      "metadata": {
        "id": "cJ8QUCGVmxj3"
      },
      "execution_count": null,
      "outputs": []
    },
    {
      "cell_type": "code",
      "source": [
        "# Download the pretrained tokenizer\n",
        "from transformers import AutoTokenizer\n",
        "\n",
        "# Save the name of the model whose tokenizer we are using. We will need it later.\n",
        "PRE_TRAINED_MODEL_NAME = \"distilbert/distilbert-base-multilingual-cased\"\n",
        "\n",
        "# Download the tokenizer\n",
        "tokenizer = AutoTokenizer.from_pretrained(PRE_TRAINED_MODEL_NAME)"
      ],
      "metadata": {
        "id": "VbksStKCnBq1"
      },
      "execution_count": null,
      "outputs": []
    },
    {
      "cell_type": "code",
      "source": [
        "# Get the vocabulary size of our tokenizer (Number of unique words, subwords e.t.c. That the tokenizer understand.)\n",
        "# Note: Anything any text not in its vocabulary is replace with the [UNK] special tokens.\n",
        "# Note: The Special tokens are also included in the size of the vocabulary\n",
        "tokenizer.vocab_size"
      ],
      "metadata": {
        "colab": {
          "base_uri": "https://localhost:8080/"
        },
        "id": "T0u1H6gJoPJc",
        "outputId": "80126870-a88d-4b0d-b9b3-cd81ffaf5420"
      },
      "execution_count": null,
      "outputs": [
        {
          "output_type": "execute_result",
          "data": {
            "text/plain": [
              "119547"
            ]
          },
          "metadata": {},
          "execution_count": 14
        }
      ]
    },
    {
      "cell_type": "code",
      "source": [
        "# Special tokens available in the tokenizer.\n",
        "tokenizer.all_special_tokens"
      ],
      "metadata": {
        "colab": {
          "base_uri": "https://localhost:8080/"
        },
        "id": "ZccoDFKVo99p",
        "outputId": "c82f7b83-0dfb-4ba0-ba9e-4ac9bc0e9a18"
      },
      "execution_count": null,
      "outputs": [
        {
          "output_type": "execute_result",
          "data": {
            "text/plain": [
              "['[UNK]', '[SEP]', '[PAD]', '[CLS]', '[MASK]']"
            ]
          },
          "metadata": {},
          "execution_count": 15
        }
      ]
    },
    {
      "cell_type": "code",
      "source": [
        "# View of 5 tokens and their number (called token id) in our vocabulary\n",
        "print (list(tokenizer.get_vocab().items()) [21:26])"
      ],
      "metadata": {
        "colab": {
          "base_uri": "https://localhost:8080/"
        },
        "id": "1qC4M6ey654j",
        "outputId": "d60db7ac-6691-4f7e-d54b-5b091c07d8a7"
      },
      "execution_count": null,
      "outputs": [
        {
          "output_type": "stream",
          "name": "stdout",
          "text": [
            "[('étend', 52192), ('crkva', 63736), ('suicide', 35656), ('русӣ', 21302), ('aérea', 74214)]\n"
          ]
        }
      ]
    },
    {
      "cell_type": "code",
      "source": [
        "# Let's test our tokenizer out on both english and french text.\n",
        "tokenizer(['français bonjour', 'morning francais']).input_ids"
      ],
      "metadata": {
        "colab": {
          "base_uri": "https://localhost:8080/"
        },
        "id": "tJfOwRTXoLg7",
        "outputId": "4c7d5eb9-5f07-4d5d-ccbd-fd70ae25059d"
      },
      "execution_count": null,
      "outputs": [
        {
          "output_type": "execute_result",
          "data": {
            "text/plain": [
              "[[101, 12501, 22873, 98214, 10129, 102], [101, 28757, 63184, 12985, 102]]"
            ]
          },
          "metadata": {},
          "execution_count": 21
        }
      ]
    },
    {
      "cell_type": "code",
      "source": [
        "# Above you see two lists where the first and last number is 101, and 102 respectively.\n",
        "# This corresponds to our [CLS] and [SEP] token which we will be using at the beginning and\n",
        "# ending of a sentence.\n",
        "print('[CLS] : ', tokenizer.cls_token_id)\n",
        "print('[SEP] : ', tokenizer.sep_token_id)\n",
        "\n",
        "# But what do this numbers mean ??. Well let's continue our journey 🛣️."
      ],
      "metadata": {
        "colab": {
          "base_uri": "https://localhost:8080/"
        },
        "id": "tAtiVjZxpbEQ",
        "outputId": "43eeed2b-9c81-4e55-aae1-e2ccc12a1a63"
      },
      "execution_count": null,
      "outputs": [
        {
          "output_type": "stream",
          "name": "stdout",
          "text": [
            "[CLS] :  101\n",
            "[SEP] :  102\n"
          ]
        }
      ]
    },
    {
      "cell_type": "markdown",
      "source": [
        "### Word Embeddings: A Simple Explanation 📚\n",
        "\n",
        "Word embeddings are vectors of real numbers ( e.g [ 0.1, 0.4, -0.8] ), one per token in your vocabulary. They are used to represent the semantic meaning of words in a way that is efficient and comparable.\n",
        "\n",
        "To create this word embeddings, we had to tokenize the text, that is, convert the words into numbers. This assigns a unique integer to each token in the vocabulary. For example, the sentence “morning francais” was tokenized as [28757, 63184, 12985] (Note: This was the tokenization before we added our [CLS] and [SEP]).\n",
        "\n",
        "But these numbers don’t tell us much about the words. They don’t tell us what the words mean, or how they are related to each other. For example, we don’t know if dog and cat are similar or different, or if apple and orange are fruits or colors.\n",
        "\n",
        "That’s why we need to use an embedding layer, that maps this numbers to their corresponding vectors.\n",
        "    \n",
        "    For example:\n",
        "\n",
        "    dog -- (tokenized to 1) -- mapped to row 1 of matrix: [0.2, -0.1, 0.5, …]\n",
        "    cat -- (tokenized to 23) -- mapped to row 23 of matrix:  [0.3, -0.2, 0.4, …]\n",
        "    apple -- (tokenized to 40) -- mapped to row 40 of matrix:  [-0.1, 0.4, 0.2, …]\n",
        "    orange -- (tokenized to 22) -- mapped to row 22 of matrix:  [-0.2, 0.3, 0.1, …]\n",
        "    ...\n",
        "\n",
        "This vectors called embeddings, are like arrows that point in different directions and have different lengths (size of the arrow not the number of elements e.g The arrow -- [0.5, 0.7] is longer than the arrow -- [0.2, 0.1] ).\n",
        "\n",
        "This embeddings are stored in an embedding matrix and when our neural network model is being trained it tries to make the vectors match the meaning and context of the words. For example, it tries to make the vectors of similar words point in the same direction, and the vectors of different words point in different directions. It also tries to make the vectors of words that are often used together have similar lengths, and the vectors of words that are rarely used together have different lengths.\n",
        "\n",
        "This will enable it to understand the contextual meaning of text better, but this requires training it with millions or even billions of books, texts e.t.c.\n",
        "\n",
        "That's why it is more common to use embedding layers of models that have already been trained.\n",
        "\n",
        "Note: As you saw embedding maps the token numbers from the tokenizer to rows in the embedding matrix. This means the embedding matrix will be of size (num_rows, num_cols) -> (tokenizer_vocab_size, embed_dim) where embed_dim is the number of elements in the vector of embedding used to represent a token. Common sizes are 256, 300, 512, 786 e.t.c.\n",
        "\n",
        "Note: This also implies that the tokenizer and embedding should come from the same pre-trained model for the mapping token numbers -> Row, to match."
      ],
      "metadata": {
        "id": "2x4xNAHSqtrz"
      }
    },
    {
      "cell_type": "code",
      "source": [
        "# Get the embedding layer from our pre-trained model.\n",
        "\n",
        "from transformers import AutoModelForMaskedLM\n",
        "\n",
        "# Note 👀 how we are using the same model name.\n",
        "pre_trained_model = AutoModelForMaskedLM.from_pretrained(PRE_TRAINED_MODEL_NAME) # downloads the model.\n",
        "\n",
        "# Fetch the embedding layer from the pre-trained model.\n",
        "embedding_layer = pre_trained_model.get_input_embeddings()\n",
        "\n",
        "# These line just tells pytorch we don't intend to further train the embedding layer.\n",
        "# So it freezes the layers knowledge, so we don't scatter it while our model is still starting to learn.\n",
        "embedding_layer = embedding_layer.requires_grad_(False)"
      ],
      "metadata": {
        "id": "-j2IV3y7qs05",
        "colab": {
          "base_uri": "https://localhost:8080/",
          "height": 49,
          "referenced_widgets": [
            "f719148acae145b2a901b39c4c58c11c",
            "955b34552d3c4e9c9cd3fc28100538e3",
            "3bb19afc978e4b1eb72367f575bf7a2c",
            "aa5a192d04214196be52d2831e12bde4",
            "979e37733fb94142976b5b94e84d8e9f",
            "674f24b6850a481f87fe396d3820d3a6",
            "f9a2d357eb7f4a7cb6518c1025f19f31",
            "6a062788bff446429b444848aaf9d49c",
            "3263feddb6ab433493a83e9c00a999ee",
            "bf6235d9636a4eec9f0446abfc1b4d77",
            "9b751db66d9c42968a528ceca7585f3d"
          ]
        },
        "outputId": "8df17716-2f86-4855-c880-8697ccfbd8f8"
      },
      "execution_count": 2,
      "outputs": [
        {
          "output_type": "display_data",
          "data": {
            "text/plain": [
              "model.safetensors:   0%|          | 0.00/542M [00:00<?, ?B/s]"
            ],
            "application/vnd.jupyter.widget-view+json": {
              "version_major": 2,
              "version_minor": 0,
              "model_id": "f719148acae145b2a901b39c4c58c11c"
            }
          },
          "metadata": {}
        }
      ]
    },
    {
      "cell_type": "code",
      "source": [
        "print('Vocabulary Size :', tokenizer.vocab_size)\n",
        "print('Embedding Layer :', embedding_layer)\n",
        "\n",
        "# As you can see the number of rows of the embedding_layer match up with the vocab size.\n",
        "# We can also see that the embed_dim size (num_of elements in embedding vector) used here is 768."
      ],
      "metadata": {
        "colab": {
          "base_uri": "https://localhost:8080/"
        },
        "id": "LYy5l573n9NZ",
        "outputId": "7c268933-c776-4cdb-cfc5-12d297e91286"
      },
      "execution_count": null,
      "outputs": [
        {
          "output_type": "stream",
          "name": "stdout",
          "text": [
            "Vocabulary Size : 119547\n",
            "Embedding Layer : Embedding(119547, 768, padding_idx=0)\n"
          ]
        }
      ]
    },
    {
      "cell_type": "markdown",
      "source": [
        "### Preparing Our Translation Dataset"
      ],
      "metadata": {
        "id": "AhnUoC1y6rL5"
      }
    },
    {
      "cell_type": "code",
      "source": [
        "# Install pytorch lightning\n",
        "!pip install lightning"
      ],
      "metadata": {
        "id": "D_1_JCg686Wz"
      },
      "execution_count": null,
      "outputs": []
    },
    {
      "cell_type": "code",
      "source": [
        "# Pytorch\n",
        "import torch\n",
        "# To access our sqlite db\n",
        "import sqlite3\n",
        "\n",
        "# other tools needed\n",
        "from torch.utils.data import *\n",
        "import torch.nn as nn"
      ],
      "metadata": {
        "id": "kgzG_C2B9Th8"
      },
      "execution_count": 4,
      "outputs": []
    },
    {
      "cell_type": "markdown",
      "source": [
        "### Understanding the form of Our Dataset.\n",
        "\n",
        "The transformer we are going to use (which we will see later) is going to have an encoder and decoder layer.\n",
        "\n",
        "<br>\n",
        "\n",
        "#### Encoder Overview 🔀\n",
        "\n",
        "The 🕵️‍♂️ encoder creates meaningful representations of its inputs (in this case, an English sentence) 💬.\n",
        "\n",
        "<br>\n",
        "\n",
        "#### Decoder Overview 📡\n",
        "\n",
        "The 📡 decoder then uses these representations to perform a specific task (translating to French 🇫🇷 in this example).\n",
        "\n",
        "<br>\n",
        "\n",
        "#### Translation Approach 🎯\n",
        "\n",
        "We will implement translation using a common technique called **next token prediction** ⏭️.\n",
        "\n",
        "At each timestep, the decoder uses the encoder's output to predict the next word in the translated sequence.  \n",
        "\n",
        "#### Example 💡\n",
        "\n",
        "For example, to translate \"Beautiful day\" into \"Belle journée\", we first append special start `[CLS]` and end `[SEP]` tokens to the French translation:\n",
        "\n",
        "> \"[CLS] Belle journée [SEP]\"\n",
        "\n",
        "Our goal is to train the model to predict the next token at each step:\n",
        "\n",
        "1. When it sees `[CLS]`, predict \"Belle\"\n",
        "2. When it sees \"Belle\", predict \"journée\"\n",
        "3. When it sees \"journée\", predict `[SEP]` ✅  \n",
        "\n",
        "<br>\n",
        "\n",
        "#### Teacher Forcing 👩‍🏫  \n",
        "\n",
        "Training the model with the above 👆👆 method will be very slooow.\n",
        "\n",
        "So instead, we use a technique called **teacher forcing** 👩‍🏫.\n",
        "\n",
        "We provide the full ground truth translation up to the `[SEP]` token to the decoder during training. Just \"`[CLS]` Belle journée\".\n",
        "\n",
        "Then we set the models target outputs to be \"Belle journée `[SEP]`\".\n",
        "\n",
        "<br>\n",
        "\n",
        "#### Causal Masking 😷  \n",
        "\n",
        "Since we are passing in the french translation to the decoder layer in training, we employ something called **causal masking** 😷 (more on this later) in the decoder to prevent it from cheating by looking at the full output translation.\n",
        "\n",
        "This forces the model to predict the next token based only on the encoder outputs and what came before in the decoder outputs.  \n",
        "<br>\n",
        "\n",
        "#### Inference Process 🤔\n",
        "\n",
        "At inference time, we pass an English input to the encoder and just the `[CLS]` token to the decoder initially.\n",
        "\n",
        "We then feed the models predicted token from the previous timestep back into the decoder to predict the next token.\n",
        "\n",
        "We continue this loop until the `[SEP]` token is predicted, indicating the ✅ end of translation.   \n",
        "<br>\n",
        "\n",
        "#### Note 📝\n",
        "In most sequence-to-sequence models (like ours), the encoder inputs do not contain start/end tokens - those are appended to the decoder inputs only.\n",
        "\n",
        "This allows the decoder to know when to start 🏁 and stop ✋ generating the translation.\n",
        "\n",
        "<br>\n",
        "\n",
        "#### **Batching**\n",
        "Batching allows us to make more efficient use of computing power by training on batches of sentence pairs rather than one sentence pair at a time. Processing batches enables the model to learn general linguistic patterns across sentences, rather than potentially noisy patterns within individual sentences.\n",
        "\n",
        "However, sentences come in varying lengths. To create same sized batches, shorter sentences will be padded with special `[PAD]` tokens to match the length of the longest sentence in the batch.\n",
        "\n",
        "We will configured the model to ignore these pad tokens. Along with the batch of sentences, the actual lengths of each underlying sentence will also be passed to the model so it knows how much of each sentence contains real words versus padding.\n",
        "\n",
        "This contextual information on real sentence lengths allows the model to differentiate between content words and pads inserted to standardize batch lengths.\n",
        "\n",
        "<br>\n",
        "\n",
        "\n",
        "#### **Using this information let's create the dataset for our model**"
      ],
      "metadata": {
        "id": "foH9l_6R-d13"
      }
    },
    {
      "cell_type": "code",
      "source": [
        "# Define some constants for our model architecture\n",
        "TOKEN_LIMIT = 350  # The maximum number of tokens our model can handle in a sentence\n",
        "PAD_IDX = tokenizer.pad_token_id  # The pad token id to use in padding shorter sentences in the batch\n",
        "\n",
        "# This class inherits from a pytorch dataset, and its function is to load and determine how to get a particular sample\n",
        "# from the data using the __getitem__ function. The collate_fn function's job is to get many samples and batch them together.\n",
        "class EN_FR_Dataset(Dataset):\n",
        "\n",
        "    TOTAL_SAMPLES = 2_007_723  # Number of sentence pairs in our dataset\n",
        "\n",
        "    def __init__(self, *, db_path, tokenizer):\n",
        "        # Create a connection to the database\n",
        "        self.conn = sqlite3.connect(db_path)\n",
        "        self.cursor = self.conn.cursor()\n",
        "\n",
        "        self.tokenizer = tokenizer\n",
        "\n",
        "    def __getitem__(self, index):\n",
        "        # Execute a query to fetch the English and French sentences at the given index\n",
        "        self.cursor.execute('SELECT en, fr FROM en_fr WHERE \"index\" = ?', (index,))\n",
        "        row = self.cursor.fetchone()\n",
        "\n",
        "        # Raise an exception if the row is not found\n",
        "        if row is None:\n",
        "            raise Exception('Row not found at index', index)\n",
        "\n",
        "        try:\n",
        "            # Encode the English and French sentences using the tokenizer, adding the special start [CLS] and end sentence [SEP]\n",
        "            # tokens to only our french translation which will both in the input to the decoder layer and target output of the model.\n",
        "            en_encoded = self.tokenizer.encode(row[0], add_special_tokens=False)\n",
        "            fr_encoded = self.tokenizer.encode(row[1], add_special_tokens=True)\n",
        "\n",
        "            # If the sentence length is greater than the token limit, replace it with a predefined sample\n",
        "            if len(en_encoded) > TOKEN_LIMIT or len(fr_encoded) > TOKEN_LIMIT - 2: # Note: The -2 is because we added [CLS] and [SEP] to it.\n",
        "                return self.__getitem__(0)\n",
        "\n",
        "            # Convert the encoded sentences to PyTorch tensors\n",
        "            en_tensor = torch.tensor(en_encoded)\n",
        "            fr_decoder_input = torch.tensor(fr_encoded[:-1])  # Input for decoder (excluding end token)\n",
        "            fr_decoder_label = torch.tensor(fr_encoded[1:])  # Label for decoder (excluding start token)\n",
        "\n",
        "        except Exception:\n",
        "            # If any error occurs, return the first sample as a fallback\n",
        "            return self.__getitem__(0)\n",
        "\n",
        "        # Return the tensors along with the acutual length of the english sentence.\n",
        "        return en_tensor, len(en_encoded), fr_decoder_input, fr_decoder_label\n",
        "\n",
        "    def __len__(self):\n",
        "        # Return the total number of samples in the dataset\n",
        "        return EN_FR_Dataset.TOTAL_SAMPLES\n",
        "\n",
        "    def close(self):\n",
        "        # Close the database connection\n",
        "        self.conn.close()\n",
        "\n",
        "    @staticmethod\n",
        "    def collate_fn(batch):\n",
        "        # `batch` is a list of samples of the form [(en_tensor, len(en_encoded), fr_decoder_input, fr_decoder_label), ...]\n",
        "        # so we unpack every tuple in the list.\n",
        "        en_sentences, en_seq_lengths, fr_decoder_inputs, fr_decoder_labels = zip(*batch)\n",
        "\n",
        "        # Pad every sequence in the batch to the max sequence length using pad_sequence with PAD_IDX for padding\n",
        "        padded_en_sentences = nn.utils.rnn.pad_sequence(en_sentences, batch_first=True, padding_value=PAD_IDX)\n",
        "        padded_fr_decoder_inputs = nn.utils.rnn.pad_sequence(fr_decoder_inputs, batch_first=True, padding_value=PAD_IDX)\n",
        "        padded_fr_decoder_labels = nn.utils.rnn.pad_sequence(fr_decoder_labels, batch_first=True, padding_value=PAD_IDX)\n",
        "\n",
        "        # Convert sequence lengths to a LongTensor (Pytorch requires it this way).\n",
        "        en_seq_lengths = torch.as_tensor(en_seq_lengths, dtype=torch.long)\n",
        "\n",
        "        # Return the padded tensors and sequence lengths\n",
        "        return padded_en_sentences, en_seq_lengths, padded_fr_decoder_inputs, padded_fr_decoder_labels\n"
      ],
      "metadata": {
        "id": "VOyFZwcw8w3z"
      },
      "execution_count": 5,
      "outputs": []
    },
    {
      "cell_type": "code",
      "source": [
        "# Import LightningDataModule from PyTorch Lightning\n",
        "import lightning as L\n",
        "\n",
        "# Define a custom class that inherits from LightningDataModule\n",
        "# A LightningDataModule organizes data-related code\n",
        "# It separates data processing from model training\n",
        "# It also makes data code reusable and shareable\n",
        "class TranslationDataModule(L.LightningDataModule):\n",
        "\n",
        "  # Define the constructor with three arguments\n",
        "  # batch_size: number of samples per iteration\n",
        "  # num_workers: number of processes for data loading\n",
        "  # train_ds: dataset object with translation pairs\n",
        "  def __init__(self, batch_size, num_workers, train_ds):\n",
        "    super().__init__()\n",
        "\n",
        "    # Assign the arguments to attributes\n",
        "    self.batch_size = batch_size\n",
        "    self.num_workers = num_workers\n",
        "    self.train_ds = train_ds\n",
        "\n",
        "  # Override the setup method\n",
        "  # This method is called before data loaders are created\n",
        "  # It is used for data preprocessing or splitting\n",
        "  def setup(self, stage: str):\n",
        "    # Split train_ds into training and validation datasets with an 80/20 ratio\n",
        "    self.train_ds, self.val_ds = random_split(\n",
        "      self.train_ds,\n",
        "      (0.8, 0.2)\n",
        "    )\n",
        "\n",
        "  # Define the dataloader methods for both training and validation.\n",
        "  # It returns a DataLoader object for training data\n",
        "  # A DataLoader handles batching, shuffling, and sampling of the data gotten from our dataset.\n",
        "  # It also supports multiprocessing and prefetching\n",
        "  def train_dataloader(self):\n",
        "    # Create and return a DataLoader with these arguments:\n",
        "    # - dataset: train_ds with training data\n",
        "    # - batch_size: batch_size attribute\n",
        "    # - num_workers: num_workers attribute\n",
        "    # - shuffle: True to shuffle the training data before each epoch (An epoch is a full iteration through our entire dataset).\n",
        "    # - prefetch_factor: 2 to prefetch 2 samples per worker\n",
        "    # - collate_fn: our function to combine samples into a batch\n",
        "    return DataLoader(\n",
        "      self.train_ds,\n",
        "      batch_size=self.batch_size,\n",
        "      num_workers=self.num_workers,\n",
        "      shuffle=True,\n",
        "      prefetch_factor=2,\n",
        "      collate_fn=EN_FR_Dataset.collate_fn\n",
        "      )\n",
        "\n",
        "  # Define the val_dataloader method\n",
        "  # It returns a DataLoader object for validation data\n",
        "  # It is similar to train_dataloader, but uses val_ds as dataset\n",
        "  def val_dataloader(self):\n",
        "    # Note: We don't shuffle the validation dataset. We use this dataset to evaluate the model's\n",
        "    # performance after each epoch.\n",
        "    return DataLoader(\n",
        "      self.val_ds,\n",
        "      batch_size=self.batch_size,\n",
        "      num_workers=self.num_workers,\n",
        "      prefetch_factor=2,\n",
        "      collate_fn=EN_FR_Dataset.collate_fn\n",
        "      )"
      ],
      "metadata": {
        "id": "LELO_S1Ajtcb"
      },
      "execution_count": 6,
      "outputs": []
    },
    {
      "cell_type": "code",
      "source": [
        "# create the dataset by pointing to the sqlite db file we created earlier.\n",
        "translation_dataset = EN_FR_Dataset(db_path=TRANSLATION_DB_FILE_PATH, tokenizer=tokenizer)"
      ],
      "metadata": {
        "id": "2Rkh1A_8onUl"
      },
      "execution_count": 47,
      "outputs": []
    },
    {
      "cell_type": "code",
      "source": [
        "# test our dataset by attempting to get the first sample\n",
        "translation_dataset[0]"
      ],
      "metadata": {
        "colab": {
          "base_uri": "https://localhost:8080/"
        },
        "id": "m9NXMyD_pY_0",
        "outputId": "ebff63b3-6561-4248-dcf3-8a124f90ca48"
      },
      "execution_count": null,
      "outputs": [
        {
          "output_type": "execute_result",
          "data": {
            "text/plain": [
              "(tensor([39429, 94118, 10108, 10105, 30066]),\n",
              " 5,\n",
              " tensor([  101, 42330, 10104, 10109, 30066]),\n",
              " tensor([42330, 10104, 10109, 30066,   102]))"
            ]
          },
          "metadata": {},
          "execution_count": 24
        }
      ]
    },
    {
      "cell_type": "code",
      "source": [
        "# create our translation data module that handles loading batches of data from our dataset.\n",
        "translation_datamodule = TranslationDataModule(\n",
        "    batch_size=24,\n",
        "    num_workers=2,\n",
        "    train_ds=translation_dataset)\n",
        "\n",
        "# Note: Typically larger batch sizes are used e.g 128 even up to 1024, as much as possible to fully utilize your gpu.\n",
        "# But as you will see the model is large and my gpu ram was small (just 15 GB), so i had to go with batch size 24."
      ],
      "metadata": {
        "id": "z_BRTW72pqTF"
      },
      "execution_count": 48,
      "outputs": []
    },
    {
      "cell_type": "markdown",
      "source": [
        "# **Transformer Architecture**\n",
        "Phew! 😌 We've done the hard work of creating a dataset to train our model. Now it's time to enjoy the fruits of our labor - building a transformer model.\n",
        "\n",
        "We will be building a popular variant of the orginial transformer  called the ReZero Transformer. It's a neat variant that's simpler, faster, and more stable.\n",
        "\n",
        "How cool is that? 😎 Let's continue our journey 🛣️\n"
      ],
      "metadata": {
        "id": "OR7hROuGr7yg"
      }
    },
    {
      "cell_type": "markdown",
      "source": [
        "<img src=\"https://onedrive.live.com/embed?resid=8C3CCBBA832CF1E0%21601&authkey=%21AHHEOlJE806ebXk&width=724&height=832\" width=\"724\" height=\"832\" />"
      ],
      "metadata": {
        "id": "JNbBPQHr30as"
      }
    },
    {
      "cell_type": "markdown",
      "source": [
        "The ReZero transformer is a simple modification of the standard transformer architecture that improves signal propagation and convergence speed. It replaces the layer normalization (the Norm in Add & Norm in the figure above 👆) with a learned residual skip connection.\n",
        "\n",
        "This means that the layer starts with the same data as the previous layer and only adds a small amount of new information to it. This small amount is learned by the layer and can be changed as needed.\n",
        "\n",
        "⭐ Picture credits: [Borealis AI](https://www.borealisai.com/research-blogs/tutorial-17-transformers-iii-training/#Better_methods_for_training_transformers)"
      ],
      "metadata": {
        "id": "wGNdAWml8QBq"
      }
    },
    {
      "cell_type": "markdown",
      "source": [
        "<img src=\"https://onedrive.live.com/embed?resid=8C3CCBBA832CF1E0%21598&authkey=%21ANA81xeriJk1m5o&width=2560&height=641\" width=\"800\" height=\"201\" />"
      ],
      "metadata": {
        "id": "U48cBbUK7zNG"
      }
    },
    {
      "cell_type": "markdown",
      "source": [
        "## **Explanation & Implementation**\n",
        "In this section, we will explain and implement our transformer step by step. We have already learned about the **embedding layer**, which maps `token ids` to `vectors`.\n",
        "\n",
        "This layer is shown as the **input and output embeddings** in the transformer picture above 👆👆.\n",
        "\n",
        "So, we will start our explanation from **positional encoding**.\n"
      ],
      "metadata": {
        "id": "DBxSpAXKDAxI"
      }
    },
    {
      "cell_type": "markdown",
      "source": [
        "### **Positional Encodings**\n",
        "The position of each word in a sentence affects its meaning. For example, \"I love pizza\" 🍕 and \"Pizza love I\" have the same words, but different orders and meanings.\n",
        "\n",
        "We can use positional encoding to represent the position of each word as a vector, similar to `word embeddings`. This way, we can teach a computer to understand the order and the context of the words in a sentence.\n",
        "\n",
        "There are two ways of creating positional encoding vectors:\n",
        "\n",
        "- Fixed positional encoding: The vectors are predefined and fixed. Formulas such as sine and cosine functions is used:\n",
        "\n",
        "$$PE_{(pos,2i)} = sin(pos / 10000^{2i / d_{model}})$$\n",
        "$$PE_{(pos,2i+1)} = cos(pos / 10000^{2i / d_{model}})$$\n",
        "\n",
        "where $pos$ is the position, $i$ is the dimension and $d_{model}$ is the size of embedding dimension (number of elements in positional encoding vector). This way captures relative distances and handle variable length sentences. *`[This is what the original transformer paper did]`*.\n",
        "\n",
        "- Learned positional encoding: The vectors are randomly initialized and learned by the model. An embedding layer is used with different embeddings for each position. This way the model learns the positional information to add to the data enabling it to potentially capture more complex patterns. *`[This is what most state-of-the-art models do]`*.\n",
        "\n",
        "Note: When we are using learned positional encodings we are going to need to put a limit on the number of tokens our model can take in. This is because the position encoding layer is going to have an embedding matrix with as many rows as our max number of tokens. Its number of columns should also match those of the word embeddings because we are going to add `+` them together, this way we get a new vector that contains both the meaning and the position of each word.\n",
        "\n",
        "In this tutorial, we use the positional encoding layer from the `pre_trained_model`. It has a token limit of 512, and our model `TOKEN_LIMIT=350` so we are good to go.\n"
      ],
      "metadata": {
        "id": "pGl7GaaYDXgQ"
      }
    },
    {
      "cell_type": "code",
      "source": [
        "pos_embedding_layer = pre_trained_model.get_position_embeddings()\n",
        "pos_embedding_layer = pos_embedding_layer.requires_grad_(False) # Freezes knowledge as we have seen before.\n",
        "\n",
        "pos_embedding_layer # Note how it supports up to 512 tokens and has an embed dim of 768 just like our word embedding layer."
      ],
      "metadata": {
        "colab": {
          "base_uri": "https://localhost:8080/"
        },
        "id": "dpk7utlUsVcm",
        "outputId": "2f45b3a6-3bfc-4edc-a82e-3e9bc7345366"
      },
      "execution_count": 7,
      "outputs": [
        {
          "output_type": "execute_result",
          "data": {
            "text/plain": [
              "Embedding(512, 768)"
            ]
          },
          "metadata": {},
          "execution_count": 7
        }
      ]
    },
    {
      "cell_type": "code",
      "source": [
        "class LearnedPositionalEncoding(nn.Module):\n",
        "\n",
        "    def __init__(self, *, pos_embed_layer):\n",
        "        \"\"\"\n",
        "        Initializes the module with a learned positional embedding layer.\n",
        "\n",
        "        Args:\n",
        "            pos_embed_layer: Our Pre-Trained nn.Embedding layer containing positional encodings.\n",
        "        \"\"\"\n",
        "        super().__init__()\n",
        "        self.positional_embedding = pos_embed_layer\n",
        "\n",
        "    def forward(self, X):\n",
        "        \"\"\"\n",
        "        Adds learned positional encodings to the input sequence.\n",
        "\n",
        "        Args:\n",
        "            X: Input sequence of token embeddings (batch_size, sequence_length, embedding_dim).\n",
        "\n",
        "        Returns:\n",
        "            Encoded sequence with positional information added (same shape as X).\n",
        "        \"\"\"\n",
        "\n",
        "        position_indices = torch.arange(X.size(1), device=X.device)  # Get position indices\n",
        "        positional_embeddings = self.positional_embedding(position_indices)  # Lookup position embeddings\n",
        "\n",
        "        # Expand positional embeddings for batch-wise operation\n",
        "        expanded_positional_embeddings = positional_embeddings.unsqueeze(0)\n",
        "\n",
        "        return X + expanded_positional_embeddings  # Add embeddings to input sequence\n"
      ],
      "metadata": {
        "id": "0Y4gJDQhsMbZ"
      },
      "execution_count": 8,
      "outputs": []
    },
    {
      "cell_type": "markdown",
      "source": [
        "### **Multi-Head Attention & Masked-Head Attention**"
      ],
      "metadata": {
        "id": "kICwzQz1udGC"
      }
    },
    {
      "cell_type": "markdown",
      "source": [
        "<img src=\"https://onedrive.live.com/embed?resid=8C3CCBBA832CF1E0%21597&authkey=%21ABpALYIXmMaQ8os&width=1834&height=842\" width=\"700\" height=\"300\" />"
      ],
      "metadata": {
        "id": "-3cWjgppusDM"
      }
    },
    {
      "cell_type": "markdown",
      "source": [
        "**Before we understand Multi-Head & Masked Multi Head Attention we need to understand Scaled Dot-Product Attention**\n",
        "\n",
        "#### Scaled Dot-Product Attention (SDPA)\n",
        "\n",
        "Imagine a vibrant party teeming with words, each eager to understand its peers. This is the essence of Scaled Dot-Product Attention (SDPA), the heart of the Transformer, a powerful language model. But before we hit the dance floor, let's meet the key players:\n",
        "\n",
        "**Word Embeddings:** Think of these as name tags at the party, each word getting a unique vector representing its meaning. But in sentences like \"Do what is Right\" and \"Shift to your Right,\" the word \"Right\" has the same tag despite differing contexts.\n",
        "\n",
        "**Enter SDPA, the party game changer!** It introduces three roles:\n",
        "\n",
        "- **Query (Q):** The curious word asking, \"Who has the information I need?\"\n",
        "- **Key (K):** Like a name tag, revealing relevant skills or knowledge.\n",
        "- **Value (V):** The actual hidden talent or information the word possesses.\n",
        "\n",
        "Now, picture each word comparing its query (e.g., \"Who has the information I need?\") with everyone's keys (e.g The information they have). The more relevant the key's information, the higher the \"attention score\" it gets. Think of it as noticing someone with a matching talent you need!\n",
        "\n",
        "But how does everyone stay informed about these scores? This is where the **`attention weight matrix`** comes in! It's like a giant scoreboard displayed at the party, where each cell shows the attention score between a specific word pair. For example, the cell at row \"Right\" and column \"Shift\" would hold the score indicating how well these words relate.\n",
        "\n",
        "But how does this translate into updating the word embeddings?\n",
        "That's where **softmax** steps in, acting as the **regulator** who assigns weights to each score based on its relative importance.\n",
        "\n",
        "Imagine the **regulator** listening to each word's scores and saying, \"Okay, so 'Shift' is quite relevant for determining 'Right' meaning in this context, so you get a high weight.\"\n",
        "\n",
        "Here's how softmax works its magic:\n",
        "\n",
        "1. **Listen to All Scores:** It takes all the attention scores for a specific word (a row in the our `attention weight matrix`) as input.\n",
        "\n",
        "2. **Apply the Formula:** It uses a mathematical formula to consider the relative strength of each score compared to the others. This ensures that scores that are much higher than others have a larger impact on the final weights.\n",
        "\n",
        "3. **Distribute the Weights:** Softmax transforms these relative strengths into weights between 0 and 1, ensuring everyone gets a fair share of attention but the most relevant ones get a bigger slice.\n",
        "\n",
        "Now, each word has a set of weighted values based on its interactions with others. Think of it as collecting insights from the most relevant conversations at the party. These weights are then used to perform a weighted combination of everyones values in order to create a richer, context-aware representation of the word's meaning.\n",
        "\n",
        "In our example, \"Right\" in \"Do what is Right\" might learn a stronger \"morality\" value, while in \"Shift to your Right,\" it gains a stronger \"direction\" value.\n",
        "\n",
        "**The result? Word embeddings that truly reflect their meaning in each sentence, just like people adapting their communication based on the context!**\n",
        "\n",
        "**Bonus Math (optional):**\n",
        "\n",
        "The core calculation behind SDPA involves the attention weight matrix and softmax, expressed as:\n",
        "\n",
        "$$\\text{Attention}(Q, K, V) = \\text{softmax}\\left(\\frac{{Q.K^T}}{{\\sqrt{d_k}}}\\right) .V$$\n",
        "\n",
        "where:\n",
        "\n",
        "- $Q$, $K$, $V$ represent the query, key, and value vectors for every word joined as rows of the corresponding matrix.\n",
        "> *Note: $K^T$ means that the matrix K was transposed, we do this to align the vectors dimensions apples to apples 🍏 before the similarity check.*\n",
        "\n",
        "- **$\\cdot$** denotes the dot product (measuring similarity).\n",
        "\n",
        "- $\\sqrt{d_k}$ is a scaling factor for stability (so very high scores don't totally drown out lower ones).\n",
        "\n",
        "- $\\text{softmax}$ distributes weights between 0 and 1 based on attention scores.\n",
        "\n",
        "- **$\\cdot$** $V$ uses the **weighted attention scores** to do a weighted combination of everyones values to get a new richer embedding."
      ],
      "metadata": {
        "id": "tkYtetKkurT_"
      }
    },
    {
      "cell_type": "markdown",
      "source": [
        "#### **Multi-Head Attention**\n",
        "This is a mechanism in the Self-Attention process where multiple \"heads\" or focus groups are used. Remember our word party? Multi-head attention throws another twist! Imagine multiple groups (heads) at the party, each focusing on different aspects of the conversation. For instance, one head might concentrate on semantic context, while another might focus on emotional context.\n",
        "\n",
        "**Here are the details:**\n",
        "\n",
        "* Each group (head) has its own \"attention weight matrix\" showing how relevant other words are to their focus.\n",
        "* They analyze independently, like different games happening at once.\n",
        "* In the end, they concatenate (Concat in the image above 👆👆) their insights, creating a richer understanding of each word, like piecing together clues from different groups.\n",
        "\n",
        "#### **Masked Multi-Head Attention**\n",
        "This is used in the decoder layer to prevent the model from seeing future words. This is achieved by replacing entries above the main diagonal of the attention matrix with `-inf` before performing softmax, a technique known as **Causal Masking**. (Imagine it as putting black tape above the main diagonal of the attention weight matrix).\n",
        "\n",
        "For example, in a sentence \"The cat sat on the mat.\", for the word \"sat\", Masked Multi-Head Attention only considers \"The\" and \"cat\", ignoring \"on\", \"the\", and \"mat\".\n",
        "\n",
        "In addition to causal masking, a **Padding Mask** is used to prevent the model from attending to `[PAD]` tokens added to equalize the lengths of sequences in a batch. The attention scores of `[PAD]` tokens are set to `-inf`, ensuring these tokens do not affect the final attention output.\n",
        "\n",
        "In the case of padding mask, if we have a batch of two sequences: [\"The cat sat down\", \"Good Morning [PAD] [PAD]\"], the model's focus remains solely on the meaningful words in the sequence.\n",
        "\n",
        "Note: Multi-Head & Masked Multi-Head Attention also have a projection layer (The Linear in the above 👆👆 image). Its job is to project these embeddings, updated from word context, to a more concise form for the Model.\n",
        "\n",
        "💡Note: In our implementation below instead of creating multiple heads each with their Networks to get queries (Q), keys (K) and values (V), we are going to cleverly use a big network each for getting Q, K, and V and we will share the output of this networks to all the heads (This bascially does the same thing as with creating multiple heads, this is just a more compute effective way)."
      ],
      "metadata": {
        "id": "Tu9uJtkrLYAg"
      }
    },
    {
      "cell_type": "code",
      "source": [
        "import torch.nn.functional as f"
      ],
      "metadata": {
        "id": "DBYZszNhkdid"
      },
      "execution_count": 9,
      "outputs": []
    },
    {
      "cell_type": "code",
      "source": [
        "class MultiHeadAttention(nn.Module):\n",
        "\n",
        "    def __init__(self, *, dim_qkv, dim_model, num_heads, causal=False, **kwargs):\n",
        "        super().__init__(**kwargs)\n",
        "\n",
        "        # Ensure dim_qkv (embedding dimension) is divisible by number of heads\n",
        "        assert dim_qkv % num_heads == 0, \"DIM_QKV must be divisible by num_heads.\"\n",
        "\n",
        "        self.num_heads = num_heads\n",
        "        self.causal = causal\n",
        "\n",
        "        # Scaling factor for attention scores\n",
        "        self.scale_factor = torch.math.sqrt(dim_qkv//num_heads)\n",
        "\n",
        "        # The neural networks for queries, keys, and values from the word embeddings\n",
        "        self.obtain_queries = nn.Linear(dim_model, dim_qkv, bias=False)\n",
        "        self.obtain_keys = nn.Linear(dim_model, dim_qkv, bias=False)\n",
        "        self.obtain_values = nn.Linear(dim_model, dim_qkv, bias=False)\n",
        "\n",
        "        # Final linear projection to get our updated context information back to the same shape as\n",
        "        # the input (concise form for the model).\n",
        "        self.projection = nn.Linear(dim_qkv, dim_model)\n",
        "\n",
        "    def forward(self, queries, keys, values, seq_lengths=None):\n",
        "\n",
        "        # Get our queries, keys, and values from the embeddings\n",
        "        queries = self.obtain_queries(queries)\n",
        "        keys = self.obtain_keys(keys)\n",
        "        values = self.obtain_values(values)\n",
        "\n",
        "        # Reshape for multi-head attention (will shape our matrix as if we create multiple heads separately).\n",
        "        queries = self.parallel_reshape(queries)\n",
        "        keys = self.parallel_reshape(keys)\n",
        "        values = self.parallel_reshape(values)\n",
        "\n",
        "        # Calculate attention scores (Remember our attention weight matrix 🙂)\n",
        "        attention = queries @ keys.transpose(-1, -2)\n",
        "\n",
        "        # Scale scores to prevent saturation (so high scores don't totally drown lower ones)\n",
        "        attention = attention / self.scale_factor\n",
        "\n",
        "        # Apply causal mask (this will be down when we pass causal=true in masked multi-head attention)\n",
        "        if self.causal:\n",
        "            attention = attention + self.get_causal_mask(queries)\n",
        "        else:\n",
        "        # Apply padding mask (this will be perform for only reqular multi-head attention)\n",
        "        # Note: we don't need padding mask for causal attention because each token can only see previous token\n",
        "        # so the padded token can't spoil the embeddings of acutual tokens.\n",
        "            attention = torch.masked_fill(attention, self.get_timeseq_mask(seq_lengths), -torch.inf)\n",
        "\n",
        "        # Calculate attention distribution (softmax)\n",
        "        attention = f.softmax(attention, dim=-1)\n",
        "\n",
        "        # Apply attention distribution to values (Weighted combination of the values to form better contextual embeddings)\n",
        "        X = attention @ values\n",
        "\n",
        "        # Reshape back to original (This is similar to us concatenating the information from multiple heads).\n",
        "        X = self.reverse_reshape(X)\n",
        "\n",
        "        # Final linear projection (Project back our rich embeddings to same shape as the inputs, a concise form for the model)\n",
        "        X = self.projection(X)\n",
        "\n",
        "        return X\n",
        "\n",
        "    def parallel_reshape(self, tensor):\n",
        "        \"\"\"\n",
        "        Reshapes the input tensor for efficient dot product computation in multi-head attention.\n",
        "\n",
        "        This function rearranges the dimensions of the input tensor to facilitate parallel\n",
        "        computation across multiple attention heads. It achieves this by:\n",
        "\n",
        "        1. Reshaping the tensor from (batch_size, seq_len, dim) to (batch_size, seq_len, num_heads, head_dim).\n",
        "        2. Permuting the dimensions to (batch_size, num_heads, seq_len, head_dim).\n",
        "\n",
        "        This new format enables efficient computation of attention scores between queries, keys, and values\n",
        "        from different heads in parallel.\n",
        "        \"\"\"\n",
        "        Batch_size, Seq_len = tensor.shape[0], tensor.shape[1]\n",
        "        return tensor.reshape(Batch_size, Seq_len, self.num_heads, -1).permute(0, 2, 1, 3)\n",
        "\n",
        "    def reverse_reshape(self, tensor):\n",
        "        \"\"\"\n",
        "        Reshapes the output tensor from multi-head attention back to its original format.\n",
        "\n",
        "        This function reverses the reshaping performed in `parallel_reshape` to obtain the original\n",
        "        tensor format (batch_size, seq_len, dim) used by the rest of the model. It achieves this by:\n",
        "\n",
        "        1. Permuting the dimensions to (batch_size, seq_len, num_heads, head_dim).\n",
        "        2. Reshaping the tensor to (batch_size, seq_len, dim).\n",
        "        \"\"\"\n",
        "        Batch_size, Seq_len = tensor.shape[0], tensor.shape[2]\n",
        "        return tensor.permute(0, 2, 1, 3).reshape(Batch_size, Seq_len, -1)\n",
        "\n",
        "    def get_timeseq_mask(self, x_lengths):\n",
        "        \"\"\"\n",
        "        Creates a mask to prevent attention to padded tokens in the sequence.\n",
        "\n",
        "        This function generates a mask that prevents the attention mechanism from attending to padded\n",
        "        tokens in the input sequence. This is crucial because attending to irrelevant padded information\n",
        "        can negatively impact the model's performance.\n",
        "\n",
        "        The mask works by identifying positions in the sequence that are shorter than the corresponding\n",
        "        sequence length (valid positions) and setting those positions to `True`. All other positions\n",
        "        (padded tokens) are set to `False`.\n",
        "        \"\"\"\n",
        "        max_seq_len = x_lengths.max().item()  # Get the maximum sequence length in the batch\n",
        "\n",
        "        # Create a sequence of numbers from 0 to max_seq_len (representing positions in the sequence)\n",
        "        ids = torch.arange(0, max_seq_len, device=x_lengths.device)\n",
        "\n",
        "        # Broadcast the sequence lengths to create a comparison matrix (batch_size, seq_len)\n",
        "        # True where a position's id is less than the corresponding sequence length (valid position)\n",
        "        mask = ids[None, :] < x_lengths[:, None]\n",
        "\n",
        "        # Invert the mask to obtain True for positions that should be masked (padded tokens)\n",
        "        return ~mask[:, None, None]\n",
        "\n",
        "\n",
        "    def get_causal_mask(self, X):\n",
        "        \"\"\"\n",
        "        Creates a mask to prevent attention to future tokens in the decoder, enforcing causality.\n",
        "\n",
        "        This function generates a mask that prevents the decoder from attending to tokens that appear\n",
        "        later in the sequence. This is crucial to enforce causality, as the decoder should only use\n",
        "        information available up to the current position to predict the next token.\n",
        "\n",
        "        The mask works by setting all positions above the main diagonal to `True`, effectively blocking\n",
        "        the attention mechanism from looking ahead. This mimics the real-world scenario where we cannot\n",
        "        predict the future.\n",
        "        \"\"\"\n",
        "\n",
        "        max_seq_len = X.size(2)  # Get sequence length from the input tensor\n",
        "        mask = nn.Transformer.generate_square_subsequent_mask(max_seq_len, device=X.device) # generate mask above the main diagonal (like our black tape).\n",
        "        return mask\n"
      ],
      "metadata": {
        "id": "LBb25L7WVLGS"
      },
      "execution_count": 10,
      "outputs": []
    },
    {
      "cell_type": "markdown",
      "source": [
        "### **The Encoder Block**"
      ],
      "metadata": {
        "id": "WCt6iIynpVfY"
      }
    },
    {
      "cell_type": "markdown",
      "source": [
        "<img src=\"https://onedrive.live.com/embed?resid=8C3CCBBA832CF1E0%21602&authkey=%21AOjn7M-A8lP-0Is&width=272&height=390\" width=\"272\" height=\"390\" />"
      ],
      "metadata": {
        "id": "Z3SmydeilotA"
      }
    },
    {
      "cell_type": "markdown",
      "source": [
        "We crossed out the **Add&Norm** because we are replacing it with **ReZero** in this model (as we will see shortly).\n",
        "\n",
        "The first layer shown is a **Multi-Head Attention** layer within the encoder block. This is called a **Self-Attention** layer because the multi-head attention mechanism draws its queries, keys and values only from the encoder input embeddings themselves.\n",
        "\n",
        "In other words, the input embeddings are enriched solely based on relationships within themselves, without any external context.\n",
        "\n",
        "We also notice the **skip connection** arrow that bypasses this Self-Attention layer, connecting the input directly to the output. This allows signals to propagate easily through the model. With ReZero, we omit the Layer normalization in the Add&Norm, instead doing a weighted addition as follows:\n",
        "\n",
        "$$\\text{skip} + \\text{re_zero_weight} \\times \\text{output}$$\n",
        "\n",
        "There is also a **dropout** layer (not shown in the image) that randomly sets some outputs to zero with a certain probability. This forces the model to utilize as much information as it can get. So the ReZero connection actually looks like:\n",
        "\n",
        "$$\\text{skip} + \\text{re_zero_weight} \\times \\text{dropout}(\\text{output})$$\n",
        "\n",
        "Next is the **feed forward network**, whose purpose is to process all the information extracted by the previous layers into a more organized and understandable representation for later stages of the model. It also employs a residual skip connection.\n"
      ],
      "metadata": {
        "id": "NYff7uJWpJG0"
      }
    },
    {
      "cell_type": "code",
      "source": [
        "# Note: In transformers, we usually set a size called dim_model. We do this so that the output\n",
        "# of all layers, blocks and sub-blocks in the models have the same size since they will almost\n",
        "# always be interacting with each other.\n",
        "\n",
        "class EncoderBlock(nn.Module):\n",
        "    \"\"\"\n",
        "    Represents a single encoder block in a Transformer model with ReZero modification.\n",
        "    \"\"\"\n",
        "\n",
        "    def __init__(self, dim_qkv, dim_model, num_heads, dim_ffn, dropout_rate, **kwargs):\n",
        "        super().__init__(**kwargs)\n",
        "\n",
        "        # Multi-Head Self-Attention Layer\n",
        "        self.multi_head_attn = MultiHeadAttention(\n",
        "            dim_qkv=dim_qkv,  # Dimension of query, key, and value vectors\n",
        "            dim_model=dim_model,  # Size of dim_model\n",
        "            num_heads=num_heads  # Number of attention heads\n",
        "        )\n",
        "\n",
        "        # Feed-Forward Network\n",
        "        self.ffn = nn.Sequential(\n",
        "            nn.Linear(dim_model, dim_ffn),  # First linear layer\n",
        "            nn.ReLU(),  # ReLU activation for non-linearity (to aid learning complex patterns)\n",
        "            nn.Linear(dim_ffn, dim_model)  # Second linear layer\n",
        "        )\n",
        "\n",
        "        # Dropout for regularization (forcing the model to utilize as much information as it can get.)\n",
        "        self.dropout = nn.Dropout(dropout_rate)\n",
        "\n",
        "        # ReZero parameter (learnable weight for weighted addition, typically intialized to zero)\n",
        "        self.reZero = nn.Parameter(torch.tensor(0.0))\n",
        "\n",
        "    def forward(self, X, X_len):\n",
        "        \"\"\"\n",
        "        Better encodes the input sequence X (in these case our english sentence).\n",
        "\n",
        "        The X_len is the acutal length of every sentence in the batch (remember we padded the batch),\n",
        "        this X_len will be passed to the self-attention layer so it can use it to know the pad tokens to\n",
        "        mask during attention.\n",
        "        \"\"\"\n",
        "\n",
        "        # Skip connection for residual addition\n",
        "        skip = X\n",
        "\n",
        "        # Multi-Head Self-Attention with ReZero\n",
        "        X = self.multi_head_attn(queries=X, keys=X, values=X, seq_lengths=X_len)\n",
        "        X = self.dropout(X)\n",
        "        X = skip + self.reZero * X  # ReZero weighted addition\n",
        "\n",
        "        # Feed-Forward Network with ReZero\n",
        "        skip = X\n",
        "        X = self.ffn(X)\n",
        "        X = self.dropout(X)\n",
        "        X = skip + self.reZero * X  # ReZero weighted addition\n",
        "\n",
        "        return X\n"
      ],
      "metadata": {
        "id": "C1lEGl1Pln5U"
      },
      "execution_count": 27,
      "outputs": []
    },
    {
      "cell_type": "code",
      "source": [
        "class EncoderLayer(nn.Module):\n",
        "    \"\"\"\n",
        "    Composes multiple EncoderBlocks to form a deep encoder layer.\n",
        "\n",
        "    The EncoderLayer holds a collection of chained EncoderBlock modules\n",
        "    that are applied sequentially to the input. By chaining multiple blocks,\n",
        "    the model can learn increasingly complex and abstract patterns in the\n",
        "    input text enabling it to create better representations.\n",
        "    \"\"\"\n",
        "\n",
        "    def __init__(self,\n",
        "                 num_encoder_blocks,\n",
        "                 dim_qkv,\n",
        "                 dim_model,\n",
        "                 num_heads,\n",
        "                 dim_ffn,\n",
        "                 dropout_rate,\n",
        "                 **kwargs) -> None:\n",
        "\n",
        "        super().__init__(**kwargs)\n",
        "\n",
        "        # Collection of Encoder Blocks\n",
        "        self.encoder_blocks = nn.ModuleList([\n",
        "            EncoderBlock(\n",
        "                dim_qkv,\n",
        "                dim_model,\n",
        "                num_heads,\n",
        "                dim_ffn,\n",
        "                dropout_rate\n",
        "            ) for _ in range(num_encoder_blocks)\n",
        "        ])\n",
        "\n",
        "    def forward(self, X, X_len):\n",
        "        \"\"\"\n",
        "        Passes the input through each Encoder Block sequentially.\n",
        "        \"\"\"\n",
        "        for encoder in self.encoder_blocks:\n",
        "            X = encoder(X, X_len)\n",
        "\n",
        "        return X\n"
      ],
      "metadata": {
        "id": "n1458jii2jLR"
      },
      "execution_count": 12,
      "outputs": []
    },
    {
      "cell_type": "markdown",
      "source": [
        "### **The Decoder Block**"
      ],
      "metadata": {
        "id": "GmSyuk7F3E3B"
      }
    },
    {
      "cell_type": "markdown",
      "source": [
        "<img src=\"https://onedrive.live.com/embed?resid=8C3CCBBA832CF1E0%21603&authkey=%21ALcQ4yPyrJ1GpqM&width=269&height=425\" width=\"269\" height=\"425\" />"
      ],
      "metadata": {
        "id": "EVY6GFdA3gSr"
      }
    },
    {
      "cell_type": "markdown",
      "source": [
        "Just like in the encoder block we crossed out the **Add&Norm** because we are replacing it with **ReZero** in this model.\n",
        "<br>\n",
        "\n",
        "**Decoder Block Similarities and Key Differences:**\n",
        "\n",
        "The decoder block, like the encoder block, consists of multiple layers that process information sequentially. However, the decoder has two key differences crucial for translating text:\n",
        "\n",
        "**1. Masked Multi-Head Attention:**\n",
        "\n",
        "- This layer handles **self-attention** within the decoder's input, like the encoder block.\n",
        "\n",
        "- **Crucial Difference:** It uses **causal masking** 😷 to prevent the model from \"cheating\" by peeking at future tokens during training. This aligns with our \"teacher forcing\" technique.\n",
        "\n",
        "- Imagine it as building a sentence one word at a time, without knowing what the next word will be. This enforces learning based on context and previously generated words.\n",
        "\n",
        "**2. Cross Attention:**\n",
        "\n",
        "( The Multi-Head Attention layer highlighted with yellow 🟨, also notice the two arrows ⤴⤴ coming from outside [actually from the encoder block] )\n",
        "\n",
        "- This layer captures the relationship between the **decoder input** (queries) and the **encoder's enriched representation** (keys and values).\n",
        "\n",
        "- Think of it as the decoder consulting an \"information sheet\" (encoder's representation) while masked from its future words, helping it understand the context and generate relevant translations.\n",
        "\n",
        "- The **skip connection** above this layer combines the information from the previous Masked Multi Head Attention and the encoded context (Cross Attention).\n",
        "\n",
        "📝 Note: In Cross Attention we will also have to pass the actual length of the encoder sentences for masking, this is so we don't try to also get encoded information from the padded [PAD] tokens."
      ],
      "metadata": {
        "id": "jN8lijfV6R03"
      }
    },
    {
      "cell_type": "code",
      "source": [
        "class DecoderBlock(nn.Module):\n",
        "    \"\"\"\n",
        "    Represents a single decoder block in a Transformer model with ReZero modification.\n",
        "    \"\"\"\n",
        "\n",
        "    def __init__(self, dim_qkv, dim_model, num_heads, dim_ffn, dropout_rate, **kwargs):\n",
        "        super().__init__(**kwargs)\n",
        "\n",
        "        # Masked Multi-Head Attention for self-attention within decoder input\n",
        "        self.masked_multi_head_attn = MultiHeadAttention(\n",
        "            dim_qkv=dim_qkv,\n",
        "            dim_model=dim_model,\n",
        "            num_heads=num_heads,\n",
        "            causal=True  # Use causal masking to prevent future token peeking\n",
        "        )\n",
        "\n",
        "        # Cross Attention to attend to the encoded representation\n",
        "        self.cross_attn = MultiHeadAttention(\n",
        "            dim_qkv=dim_qkv,\n",
        "            dim_model=dim_model,\n",
        "            num_heads=num_heads\n",
        "        )\n",
        "\n",
        "        # Feed-Forward Network just like we saw in encoder block.\n",
        "        self.ffn = nn.Sequential(\n",
        "            nn.Linear(dim_model, dim_ffn),\n",
        "            nn.ReLU(),\n",
        "            nn.Linear(dim_ffn, dim_model)\n",
        "        )\n",
        "\n",
        "        # Dropout for regularization (just like in encoder block).\n",
        "        self.dropout = nn.Dropout(dropout_rate)\n",
        "\n",
        "        # ReZero parameter for weighted addition\n",
        "        self.reZero = nn.Parameter(torch.tensor(0.0))\n",
        "\n",
        "    def forward(self, X, enc_outputs, enc_seq_lengths):\n",
        "        \"\"\"\n",
        "        Processes the decoder input sequence X using attention to the encoded representation.\n",
        "\n",
        "        Args:\n",
        "            X (torch.Tensor): Decoder input sequence of shape (batch_size, seq_len, dim_model).\n",
        "\n",
        "            enc_outputs (torch.Tensor): Encoded output from the encoder of shape (batch_size, enc_seq_len, dim_model).\n",
        "\n",
        "            enc_seq_lengths (torch.Tensor): Sequence lengths for the encoder of shape (batch_size,).\n",
        "\n",
        "        Returns:\n",
        "            torch.Tensor: Updated decoder output of shape (batch_size, seq_len, dim_model).\n",
        "        \"\"\"\n",
        "\n",
        "        # Skip connection for residual addition\n",
        "        skip = X\n",
        "\n",
        "        # Masked Multi-Head Attention (Self-Attention)\n",
        "        # - Prevents peeking at future words during training\n",
        "        # - Focuses on context within the decoder's input\n",
        "        X = self.masked_multi_head_attn(queries=X, keys=X, values=X)\n",
        "        X = self.dropout(X)\n",
        "        X = skip + self.reZero * X  # ReZero weighted addition\n",
        "\n",
        "        # Skip connection for residual addition\n",
        "        skip = X\n",
        "\n",
        "        # Cross Attention\n",
        "        # - Attends to the encoded representation for context\n",
        "        # - Combines information from decoder and encoder\n",
        "        # - Also pass the encoder sequence lengths so we don't try to get encoded information from [PAD] tokens.\n",
        "        X = self.cross_attn(queries=X, keys=enc_outputs, values=enc_outputs, seq_lengths=enc_seq_lengths)\n",
        "        X = self.dropout(X)\n",
        "        X = skip + self.reZero * X  # ReZero weighted addition\n",
        "\n",
        "        # Skip connection for residual addition\n",
        "        skip = X\n",
        "\n",
        "        # Feed-Forward Network (just like we have seen before).\n",
        "        X = self.ffn(X)\n",
        "        X = self.dropout(X)\n",
        "        X = skip + self.reZero * X  # ReZero weighted addition\n",
        "\n",
        "        return X\n"
      ],
      "metadata": {
        "id": "X_f-NfsLBQXd"
      },
      "execution_count": 26,
      "outputs": []
    },
    {
      "cell_type": "code",
      "source": [
        "class DecoderLayer(nn.Module):\n",
        "    \"\"\"\n",
        "    Composes multiple DecoderBlocks to form a deeper decoder layer.\n",
        "    \"\"\"\n",
        "\n",
        "    def __init__(self, num_decoder_blocks, dim_qkv, dim_model, num_heads, dim_ffn, dropout_rate, **kwargs):\n",
        "        super().__init__(**kwargs)\n",
        "\n",
        "        # Collection of Decoder Blocks\n",
        "        self.decoder_blocks = nn.ModuleList([\n",
        "            DecoderBlock(\n",
        "                dim_qkv,\n",
        "                dim_model,\n",
        "                num_heads,\n",
        "                dim_ffn,\n",
        "                dropout_rate\n",
        "            ) for _ in range(num_decoder_blocks)\n",
        "        ])\n",
        "\n",
        "    def forward(self, X, enc_out, enc_seq_lengths):\n",
        "        \"\"\"\n",
        "        Passes the input through each Decoder Block sequentially.\n",
        "        \"\"\"\n",
        "        for decoder in self.decoder_blocks:\n",
        "            X = decoder(X, enc_out, enc_seq_lengths)\n",
        "\n",
        "        return X"
      ],
      "metadata": {
        "id": "Pddq1wWgEwaf"
      },
      "execution_count": 14,
      "outputs": []
    },
    {
      "cell_type": "markdown",
      "source": [
        "Wow 😁, we have come a long way but before we start putting the pieces together to build our Transformer let's define some Hyper-Parameters (This means parameters that determines the size of the components in our architecture) for our model."
      ],
      "metadata": {
        "id": "plChtv-4GDJk"
      }
    },
    {
      "cell_type": "code",
      "source": [
        "# Model Hyper-Parameters\n",
        "\n",
        "# To ensure the output of all blocks, sub-blocks in the model have the same size as they will be interacting.\n",
        "DIM_MODEL = 768\n",
        "\n",
        "# The Size our feed-forward networks first expands its inputs `to` before performing nn.ReLU (non-linearity to capture complex patterns)\n",
        "# and later projecting back to the inputs size.\n",
        "DIM_FFN = 784\n",
        "\n",
        "# The Size of the queries, keys and values in the attention blocks.\n",
        "# Note: This will be shared equally among all the heads, so it must be divisible by the number of heads we choose.\n",
        "DIM_QKV = 512\n",
        "\n",
        "# The probability of which to turn off (Zero) outputs. 0.2 means 20 %\n",
        "DROPOUT_RATE = 0.2\n",
        "\n",
        "# The vocabulary size.\n",
        "VOCAB_SIZE = tokenizer.vocab_size"
      ],
      "metadata": {
        "id": "jW16ub11HtAm"
      },
      "execution_count": 15,
      "outputs": []
    },
    {
      "cell_type": "markdown",
      "source": [
        "### **Putting the Pieces Together: Transformer**"
      ],
      "metadata": {
        "id": "3ac31ZqfKSpK"
      }
    },
    {
      "cell_type": "markdown",
      "source": [
        "<img src=\"https://onedrive.live.com/embed?resid=8C3CCBBA832CF1E0%21604&authkey=%21AHp5UHZoaJ4wLnA&width=724&height=832\" width=\"724\" height=\"832\" />"
      ],
      "metadata": {
        "id": "KXjiyjtSKbC2"
      }
    },
    {
      "cell_type": "markdown",
      "source": [
        "Let's talk about the newly added portion (the section on top highlighted in green). This section explains how we use the information from the decoder layer (which also incorporates the information from the encoder layer) to predict the next translated word. To do this, we have a linear layer that takes this information and assigns prediction scores (called logits) to every word in our vocabulary.\n",
        "\n",
        "The output size of this layer should match the vocabulary size, so that each word has a corresponding score. The higher the score, the more confident the model is that that word is the next one.\n",
        "\n",
        "We also have a softmax layer that transforms these scores into probabilities between 0 and 1. These probabilities are then outputted by the model.\n",
        "\n",
        "📝 Note: We asterisk (*) the softmax function because the specific error function we are going to use in PyTorch (as you will see below) will automatically apply it for us, so we just need to return the logits.\n",
        "\n",
        "Now we need an error function, which is a function that our model tries to minimize. By minimizing the error, the model learns how to perform our task (language translation in this case).\n",
        "\n",
        "We are going to use CrossEntropyLoss as our error function. This function takes the logits representing the model's prediction of the next translated word and compares it with the actual next word. It then gives an error value based on how far off the model's prediction is from the actual word. The model can then adjust itself accordingly (thereby learning).\n",
        "\n",
        "**Bonus Technical Detail**: CrossEntropyLoss is a negative log loss function. How does this work? Well, we take the logits and apply a softmax function on them to convert them into probabilities between 0 and 1.\n",
        "\n",
        "We want the model to predict 1 for the actual next word (meaning the other probabilities will be 0), so how do we get an error value out of these? Well, we apply a logarithm function on the model's prediction of the actual word. If the model correctly predicts 1, then log(1) is 0, so the error value is 0.\n",
        "\n",
        "This tells the model that it is on the right track and there is no error. But if the model's prediction is less than 1, then the logarithm function starts to approach $-\\infty$, which means the error value becomes very large.\n",
        "\n",
        "This is a problem because we want to minimize the error function, and the way it is shaped now, the model would learn to predict 0 for the right word in order to reduce the error.\n",
        "\n",
        "So here is where the trick comes in: we multiply the logarithm function by `-1`, so that now for predictions less than 1, the error value starts to approach $\\infty$ instead. This forces the model to learn to predict 1 for the right word.\n",
        "\n",
        "This is why it is called negative log loss: $-log(models\\ prediction \\ for\\ actual\\ next\\ word)$.\n",
        "\n",
        "Now because we are predicting the next word multiple times in a sample, and for every sample in the batch, we calculate all the error values and average them, so that we have one error value to minimize.\n"
      ],
      "metadata": {
        "id": "_64Go-N-Q9AU"
      }
    },
    {
      "cell_type": "code",
      "source": [
        "# Import neccesary to calculate the accuracy.\n",
        "from torchmetrics import Accuracy"
      ],
      "metadata": {
        "id": "cJuJn_8Ge84K"
      },
      "execution_count": 16,
      "outputs": []
    },
    {
      "cell_type": "code",
      "source": [
        "# We will be using a Pytorch Lightning Module, Lightning allows building easier training process for Models\n",
        "# it helps get rid of boilerplate code use in vanilla Pytorch.\n",
        "\n",
        "class Transformer(L.LightningModule):\n",
        "    \"\"\"\n",
        "    This class defines the Transformer model for the translation task.\n",
        "\n",
        "    Attributes:\n",
        "        pos_embed_layer (LearnedPositionalEncoding): Adds positional encodings to the input sequences.\n",
        "        embedding_layer (nn.Embedding): Embeds the input tokens into vector representations.\n",
        "        encoder_layer (EncoderLayer): Encoder layer of the model with stacked Encoder Blocks.\n",
        "        decoder_layer (DecoderLayer): Decoder layer of the model with stacked Decoder Blocks.\n",
        "        output (nn.Linear): Final layer mapping decoder outputs to vocabulary size for prediction.\n",
        "        loss_fn (nn.CrossEntropyLoss): Loss function with padding token ignored.\n",
        "        accuracy (Accuracy): Metric for calculating accuracy of model translation with padding token ignored.\n",
        "    \"\"\"\n",
        "\n",
        "    def __init__(self, **kwargs):\n",
        "        super().__init__(**kwargs)\n",
        "\n",
        "        # Positional Encoding\n",
        "        self.pos_embed_layer = LearnedPositionalEncoding(\n",
        "            pos_embed_layer=pos_embedding_layer  # Inject our pre-trained positional embeddings layer.\n",
        "        )\n",
        "\n",
        "        # Inject our pre-trained token embedding layer.\n",
        "        self.embedding_layer = embedding_layer\n",
        "\n",
        "        # Encoder\n",
        "        self.encoder_layer = EncoderLayer(\n",
        "            num_encoder_blocks=4,  # Hyperparameter: Number of encoder blocks\n",
        "            dim_qkv=DIM_QKV,  # Hyperparameter: Dimension of query, key, and value vectors\n",
        "            dim_model=DIM_MODEL,  # Hyperparameter: Ensure similar output sizes across the model\n",
        "            num_heads=8,  # Hyperparameter: Number of attention heads in each block\n",
        "            dim_ffn=DIM_FFN,  # Hyperparameter: Dimension of feed-forward network\n",
        "            dropout_rate=DROPOUT_RATE  # Hyperparameter: Dropout rate for regularization\n",
        "        )\n",
        "\n",
        "        # Decoder\n",
        "        self.decoder_layer = DecoderLayer(\n",
        "            num_decoder_blocks=4,  # Hyperparameter: Number of decoder blocks\n",
        "            dim_qkv=DIM_QKV,  # Hyperparameter: Dimension of query, key, and value vectors\n",
        "            dim_model=DIM_MODEL,  # Hyperparameter: Ensure similar output sizes across the model\n",
        "            num_heads=8,  # Hyperparameter: Number of attention heads in each block\n",
        "            dim_ffn=DIM_FFN,  # Hyperparameter: Dimension of feed-forward network\n",
        "            dropout_rate=DROPOUT_RATE  # Hyperparameter: Dropout rate for regularization\n",
        "        )\n",
        "\n",
        "        # Output Layer\n",
        "        self.output = nn.Linear(DIM_MODEL, VOCAB_SIZE)  # Project to vocabulary size for prediction\n",
        "\n",
        "        # Loss Function and Metrics\n",
        "        self.loss_fn = nn.CrossEntropyLoss(ignore_index=PAD_IDX)  # Ignore padding tokens\n",
        "        self.accuracy = Accuracy(\n",
        "            task='multiclass',\n",
        "            num_classes=VOCAB_SIZE,\n",
        "            ignore_index=PAD_IDX # Ignore padding tokens\n",
        "        )\n",
        "\n",
        "    def forward(self, X_enc, X_enc_len, X_dec):\n",
        "        \"\"\"\n",
        "        Forward pass through the Transformer model.\n",
        "\n",
        "        Args:\n",
        "            X_enc (torch.Tensor): Input sequence for the encoder.\n",
        "            X_enc_len (torch.Tensor): Sequence lengths for the encoder.\n",
        "            X_dec (torch.Tensor): Input sequence for the decoder.\n",
        "\n",
        "        Returns:\n",
        "            torch.Tensor: Logits of the predicted tokens.\n",
        "        \"\"\"\n",
        "\n",
        "        # Get embeddings\n",
        "        X_enc = self.embedding_layer(X_enc)  # Embed encoder input\n",
        "        X_dec = self.embedding_layer(X_dec)  # Embed decoder input\n",
        "\n",
        "        # Add positional encodings\n",
        "        X_enc = self.pos_embed_layer(X_enc)  # Add positional information to encoder\n",
        "        X_dec = self.pos_embed_layer(X_dec)  # Add positional information to decoder\n",
        "\n",
        "        # Encoder outputs\n",
        "        X_enc = self.encoder_layer(X_enc, X_enc_len)  # Pass through encoder layers\n",
        "\n",
        "        # Decoder outputs (which also incorporates the information from the encoder layer)\n",
        "        X_dec = self.decoder_layer(X_dec, enc_out=X_enc, enc_seq_lengths=X_enc_len)\n",
        "\n",
        "        # Final output layer (maps to vocabulary size) to get the logits of the predictions.\n",
        "        logits = self.output(X_dec)\n",
        "\n",
        "        return logits\n",
        "\n",
        "    def training_step(self, batch, batch_idx):\n",
        "        \"\"\"\n",
        "        Performs a single training step.\n",
        "\n",
        "        Args:\n",
        "            batch (dict): Batch of data containing encoded and decoded sequences.\n",
        "            batch_idx (int): Index of the current batch.\n",
        "\n",
        "        Returns:\n",
        "            loss: Calculated loss value for the current batch.\n",
        "        \"\"\"\n",
        "\n",
        "        return self._common_step(batch, 'train')\n",
        "\n",
        "    def validation_step(self, batch, batch_idx):\n",
        "        \"\"\"\n",
        "        Performs a single validation step.\n",
        "\n",
        "        Args:\n",
        "            batch (dict): Batch of data containing encoded and decoded sequences.\n",
        "            batch_idx (int): Index of the current batch.\n",
        "\n",
        "        Returns:\n",
        "            loss: Calculated loss value for the current batch.\n",
        "        \"\"\"\n",
        "\n",
        "        return self._common_step(batch, 'val')\n",
        "\n",
        "    def _common_step(self, batch, prefix):\n",
        "        \"\"\"\n",
        "        Shared logic for training and validation steps.\n",
        "\n",
        "        Args:\n",
        "            batch (dict): Batch of data containing encoded and decoded sequences.\n",
        "            prefix (str): Prefix for logging metrics ('train' or 'val').\n",
        "\n",
        "        Returns:\n",
        "            loss: Calculated loss value for the current batch.\n",
        "        \"\"\"\n",
        "\n",
        "        # Unpack batch data\n",
        "        X_enc, X_enc_len, X_dec, Y_dec = batch\n",
        "\n",
        "        # Run forward pass (asking the model to make prediction).\n",
        "        logits = self.forward(X_enc, X_enc_len, X_dec)\n",
        "\n",
        "        # Calculate loss (ignoring padding tokens)\n",
        "        # Note: By permute(...) we are reshaping the logits to the form the function accepts as stated in Pytorch Documentation Online.\n",
        "        loss = self.loss_fn(logits.permute(0, 2, 1), Y_dec)\n",
        "\n",
        "        # Calculate and log accuracy to our training progress bar so we can see if\n",
        "        # the model is improving while training (ignoring padding tokens).\n",
        "        self.log_dict({\n",
        "            f'{prefix} acc': self.accuracy(logits.permute(0,2,1), Y_dec),\n",
        "            f'{prefix} loss': loss\n",
        "        },\n",
        "        prog_bar=True) # show metrics on the progress bar.\n",
        "\n",
        "        return loss\n",
        "\n",
        "    def configure_optimizers(self):\n",
        "        \"\"\"\n",
        "        Configures the optimizer used for training the model (view this as a coach that tells the model to improve its components,\n",
        "        thats why we pass to it the model parameters so it can guide the tuning of them)\n",
        "\n",
        "        Returns:\n",
        "            torch.optim.Optimizer: The chosen optimizer instance.\n",
        "        \"\"\"\n",
        "\n",
        "        optimizer = torch.optim.Adam(self.parameters(), lr=5e-4)  # Example using Adam with learning rate 5e-4\n",
        "        return optimizer\n",
        "\n"
      ],
      "metadata": {
        "id": "jlHzOAjRKacj"
      },
      "execution_count": 17,
      "outputs": []
    },
    {
      "cell_type": "markdown",
      "source": [
        "### **Architecture Summary**\n",
        "With the aid of torchinfo we are going to print a summary of our model to see details like number of trainable parameters, and non-trainable parameters (remember we freezed the parameters in our pre-trained word and positional embeddings layers)."
      ],
      "metadata": {
        "id": "BwLMfA0MlOEj"
      }
    },
    {
      "cell_type": "code",
      "source": [
        "!pip install torchinfo"
      ],
      "metadata": {
        "id": "pHzTUtAJjm-h"
      },
      "execution_count": null,
      "outputs": []
    },
    {
      "cell_type": "code",
      "source": [
        "from torchinfo import summary\n",
        "\n",
        "batch_size = 24 # will emulate passing a batch size of 24 through the model.\n",
        "summary(\n",
        "    Transformer(),\n",
        "    input_data = [\n",
        "        torch.randint(low=2, high=250, size=(batch_size, TOKEN_LIMIT)), # emulate encoder inputs\n",
        "        torch.full([batch_size], TOKEN_LIMIT), # emulate lengths of encoder inputs\n",
        "        torch.randint(low=2, high=250, size=(batch_size, TOKEN_LIMIT)) # emulate decoder inputs\n",
        "    ],\n",
        "    device='cpu'\n",
        ")"
      ],
      "metadata": {
        "colab": {
          "base_uri": "https://localhost:8080/"
        },
        "id": "RP8NZNFBjUiZ",
        "outputId": "e5d6a7de-abb7-44e7-bae1-afc6548b3581"
      },
      "execution_count": 36,
      "outputs": [
        {
          "output_type": "execute_result",
          "data": {
            "text/plain": [
              "===============================================================================================\n",
              "Layer (type:depth-idx)                        Output Shape              Param #\n",
              "===============================================================================================\n",
              "Transformer                                   [24, 350, 119547]         --\n",
              "├─Embedding: 1-1                              [24, 350, 768]            (91,812,096)\n",
              "├─Embedding: 1-2                              [24, 350, 768]            (recursive)\n",
              "├─LearnedPositionalEncoding: 1-3              [24, 350, 768]            --\n",
              "│    └─Embedding: 2-1                         [350, 768]                (393,216)\n",
              "├─LearnedPositionalEncoding: 1-4              [24, 350, 768]            (recursive)\n",
              "│    └─Embedding: 2-2                         [350, 768]                (recursive)\n",
              "├─EncoderLayer: 1-5                           [24, 350, 768]            --\n",
              "│    └─ModuleList: 2-3                        --                        --\n",
              "│    │    └─EncoderBlock: 3-1                 [24, 350, 768]            2,779,409\n",
              "│    │    └─EncoderBlock: 3-2                 [24, 350, 768]            2,779,409\n",
              "│    │    └─EncoderBlock: 3-3                 [24, 350, 768]            2,779,409\n",
              "│    │    └─EncoderBlock: 3-4                 [24, 350, 768]            2,779,409\n",
              "├─DecoderLayer: 1-6                           [24, 350, 768]            --\n",
              "│    └─ModuleList: 2-4                        --                        --\n",
              "│    │    └─DecoderBlock: 3-5                 [24, 350, 768]            4,353,041\n",
              "│    │    └─DecoderBlock: 3-6                 [24, 350, 768]            4,353,041\n",
              "│    │    └─DecoderBlock: 3-7                 [24, 350, 768]            4,353,041\n",
              "│    │    └─DecoderBlock: 3-8                 [24, 350, 768]            4,353,041\n",
              "├─Linear: 1-7                                 [24, 350, 119547]         91,931,643\n",
              "===============================================================================================\n",
              "Total params: 212,666,755\n",
              "Trainable params: 120,461,443\n",
              "Non-trainable params: 92,205,312\n",
              "Total mult-adds (G): 7.57\n",
              "===============================================================================================\n",
              "Input size (MB): 0.13\n",
              "Forward/backward pass size (MB): 10833.38\n",
              "Params size (MB): 850.67\n",
              "Estimated Total Size (MB): 11684.18\n",
              "==============================================================================================="
            ]
          },
          "metadata": {},
          "execution_count": 36
        }
      ]
    },
    {
      "cell_type": "markdown",
      "source": [
        "### **Training Our Model**"
      ],
      "metadata": {
        "id": "kAVJM5a8nA14"
      }
    },
    {
      "cell_type": "code",
      "source": [
        "# Since we are going to be training our model for several epochs (An epoch is a full iteration through our dataset [of 2_007_723 sentence pairs]),\n",
        "# we want to save the model at intervals so if there is any unforseen occurance, we don't just have to start form the beginning.\n",
        "from lightning.pytorch.callbacks import ModelCheckpoint\n",
        "\n",
        "checkpoint_callback = ModelCheckpoint(\n",
        "    dirpath='latest_ckpt/',\n",
        "    filename='en_fr_model',\n",
        "    every_n_train_steps=200, # After how many batches should we save the model.\n",
        "    save_last=True, # Save the current model at that point.\n",
        "    # In addition to saving the current model we also want to save the best model so\n",
        "    # far so incase the model suddenly starts back-tracking, we can revert to the best model so far.\n",
        "    save_top_k=1\n",
        ")"
      ],
      "metadata": {
        "id": "TdpWQSzZnFdk"
      },
      "execution_count": 34,
      "outputs": []
    },
    {
      "cell_type": "code",
      "source": [
        "# We use a trainer provided by Pytorch Lightning to train the model\n",
        "# (Note: It will automatically use a GPU, TPU, IPU or HPU if any is available).\n",
        "trainer = L.Trainer(\n",
        "    max_epochs=5, # Train for 5 epochs.\n",
        "    callbacks=[checkpoint_callback] # Register our checkpoint_callback to tell the trainer to save the checkpoints.\n",
        ")"
      ],
      "metadata": {
        "colab": {
          "base_uri": "https://localhost:8080/"
        },
        "id": "cvSsBFFQoXVE",
        "outputId": "6f8afcc8-0df6-49ef-d326-f240fec8bccb"
      },
      "execution_count": 38,
      "outputs": [
        {
          "output_type": "stream",
          "name": "stderr",
          "text": [
            "INFO: GPU available: False, used: False\n",
            "INFO:lightning.pytorch.utilities.rank_zero:GPU available: False, used: False\n",
            "INFO: TPU available: False, using: 0 TPU cores\n",
            "INFO:lightning.pytorch.utilities.rank_zero:TPU available: False, using: 0 TPU cores\n",
            "INFO: IPU available: False, using: 0 IPUs\n",
            "INFO:lightning.pytorch.utilities.rank_zero:IPU available: False, using: 0 IPUs\n",
            "INFO: HPU available: False, using: 0 HPUs\n",
            "INFO:lightning.pytorch.utilities.rank_zero:HPU available: False, using: 0 HPUs\n"
          ]
        }
      ]
    },
    {
      "cell_type": "code",
      "source": [
        "# create an instance of the transformer to train.\n",
        "transformer_model = Transformer()"
      ],
      "metadata": {
        "id": "FyY0btAmr3Ha"
      },
      "execution_count": 39,
      "outputs": []
    },
    {
      "cell_type": "code",
      "source": [
        "# pass our instance to the trainer for training\n",
        "trainer.fit(\n",
        "    transformer_model, # our transformer instance\n",
        "    translation_datamodule # the data module we previously created, will be used for training the model.\n",
        ")"
      ],
      "metadata": {
        "colab": {
          "base_uri": "https://localhost:8080/",
          "height": 570,
          "referenced_widgets": [
            "d090cb4ccf1840ce9d67f52021ff3d9c",
            "e014fb58d7af41dfb19142f27d4a5175",
            "f2522d0404aa4946a8685c7eb17b1472",
            "c769ab41a6214556930983ed63ef3f6e",
            "259ec41df1724a19b861a922a98cf9cc",
            "9f7911e098b1498c9f4f09758bd0f030",
            "36501c6110014a088daa80cc25fedbb1",
            "195f2567ef0b4563a723be66a5c64e6c",
            "546f2daff3b3424080ba1e0f294d5461",
            "0130c8dc84f44290b325266439c43143",
            "951bbc4aaeba48aa89015e9114c9aaf2",
            "9b99abe24b7a4cbdbb417e11709b1b0c",
            "9e831ff0e93d47b0b470b83608507927",
            "203498ef5f3648289158f542c084f849",
            "9aa53459ce554b589d4e3ec205a4bfe7",
            "73402c5426e247788744e7897b32c338",
            "498153d19bb8444796a02d2af6149c97",
            "93b3f4f4b4ea46f58b4f8ef40f4d72ee",
            "dc21e9d9b5c443e5b2f6a354a2214108",
            "554795111e5a405cbd70874f357886e5",
            "d7448109e55e4b33a3b0481836a8a894",
            "6c3de8d100db4766a1b3460639a9f5de"
          ]
        },
        "id": "2jEblmMssHDw",
        "outputId": "19f20302-4f8f-42bf-9bd7-180ab9f1e93e"
      },
      "execution_count": null,
      "outputs": [
        {
          "output_type": "stream",
          "name": "stderr",
          "text": [
            "INFO: \n",
            "  | Name            | Type                      | Params\n",
            "--------------------------------------------------------------\n",
            "0 | pos_embed_layer | LearnedPositionalEncoding | 393 K \n",
            "1 | embedding_layer | Embedding                 | 91.8 M\n",
            "2 | encoder_layer   | EncoderLayer              | 11.1 M\n",
            "3 | decoder_layer   | DecoderLayer              | 17.4 M\n",
            "4 | output          | Linear                    | 91.9 M\n",
            "5 | loss_fn         | CrossEntropyLoss          | 0     \n",
            "6 | accuracy        | MulticlassAccuracy        | 0     \n",
            "--------------------------------------------------------------\n",
            "120 M     Trainable params\n",
            "92.2 M    Non-trainable params\n",
            "212 M     Total params\n",
            "850.667   Total estimated model params size (MB)\n",
            "INFO:lightning.pytorch.callbacks.model_summary:\n",
            "  | Name            | Type                      | Params\n",
            "--------------------------------------------------------------\n",
            "0 | pos_embed_layer | LearnedPositionalEncoding | 393 K \n",
            "1 | embedding_layer | Embedding                 | 91.8 M\n",
            "2 | encoder_layer   | EncoderLayer              | 11.1 M\n",
            "3 | decoder_layer   | DecoderLayer              | 17.4 M\n",
            "4 | output          | Linear                    | 91.9 M\n",
            "5 | loss_fn         | CrossEntropyLoss          | 0     \n",
            "6 | accuracy        | MulticlassAccuracy        | 0     \n",
            "--------------------------------------------------------------\n",
            "120 M     Trainable params\n",
            "92.2 M    Non-trainable params\n",
            "212 M     Total params\n",
            "850.667   Total estimated model params size (MB)\n"
          ]
        },
        {
          "output_type": "display_data",
          "data": {
            "text/plain": [
              "Sanity Checking: |          | 0/? [00:00<?, ?it/s]"
            ],
            "application/vnd.jupyter.widget-view+json": {
              "version_major": 2,
              "version_minor": 0,
              "model_id": "d090cb4ccf1840ce9d67f52021ff3d9c"
            }
          },
          "metadata": {}
        },
        {
          "output_type": "display_data",
          "data": {
            "text/plain": [
              "Training: |          | 0/? [00:00<?, ?it/s]"
            ],
            "application/vnd.jupyter.widget-view+json": {
              "version_major": 2,
              "version_minor": 0,
              "model_id": "9b99abe24b7a4cbdbb417e11709b1b0c"
            }
          },
          "metadata": {}
        }
      ]
    },
    {
      "cell_type": "markdown",
      "source": [
        "### **Testing Our Model**\n",
        "I already trained a Model though i only trained for half of the first epoch it reached up to train acc = 0.62 a 62% percent accuracy in training data next word prediction. I will use that model.\n",
        "\n",
        "Note: This model is not added to the notebooks due to some issues i had while creating this notebooks, but you can train your own model (should take you about 3 hours to train on half of the first epoch with Nvidia T4 or P100 gpu that is on colab or kaggle)."
      ],
      "metadata": {
        "id": "77jOG0Htu5Fo"
      }
    },
    {
      "cell_type": "code",
      "source": [
        "# This particular line was how i loaded the model on my machine, wont work on yours\n",
        "# as i stated in the markdown above 👆👆\n",
        "my_trained_model_path = '/content/drive/MyDrive/Public Educational Notebooks/Lang_Translate/Resources/model.ckpt'\n",
        "\n",
        "loaded_model = Transformer.load_from_checkpoint(my_trained_model_path)"
      ],
      "metadata": {
        "id": "tQt5vEnzsanK"
      },
      "execution_count": 28,
      "outputs": []
    },
    {
      "cell_type": "code",
      "source": [
        "def naive_greedy_decoding(en_sentence, transformer_model, tokenizer, max_output_len=TOKEN_LIMIT):\n",
        "    \"\"\"\n",
        "    Performs basic greedy decoding on the provided English sentence using the given Transformer model.\n",
        "\n",
        "    This method serves for educational purposes and demonstrates a simple greedy decoding approach.\n",
        "    For practical applications, more efficient methods like KV caching are used.\n",
        "\n",
        "    Args:\n",
        "        en_sentence (str): The English sentence to translate.\n",
        "        transformer_model (nn.Module): The trained Transformer model.\n",
        "        tokenizer (transformers.PreTrainedTokenizer): The tokenizer used for text and vocabulary handling.\n",
        "        max_output_len (int, optional): Maximum length of the decoded French sentence. Defaults to 350 (Our Models TOKEN_LIMIT).\n",
        "\n",
        "    Returns:\n",
        "        str: The decoded French sentence generated by the model.\n",
        "\n",
        "    Raises:\n",
        "        Exception: If the input sentence is empty.\n",
        "    \"\"\"\n",
        "\n",
        "    # **Evaluation mode and GPU usage:**\n",
        "    transformer_model = transformer_model.eval().cuda()  # Switch to evaluation mode and move to GPU\n",
        "\n",
        "    # **Input validation:**\n",
        "    assert isinstance(en_sentence, str), \"The english sentence should be a string\"\n",
        "    en_sentence = en_sentence.strip()\n",
        "\n",
        "    if en_sentence == \"\":\n",
        "        raise Exception('Text should not be empty')\n",
        "\n",
        "    en_sentence = clean_text(en_sentence)  # Apply any necessary text cleaning\n",
        "\n",
        "    # **Tokenization and sequence lengths:**\n",
        "    en_sen = tokenizer.encode(en_sentence, return_tensors='pt')  # Tokenize English sentence\n",
        "    en_sen_len = torch.tensor([en_sen.shape[1]])  # Calculate input sequence length\n",
        "\n",
        "    # **Initialize decoded sentence and loop:**\n",
        "    fr_decoded = [tokenizer.cls_token_id]  # Start with [CLS] token representing our Start Of Sentence\n",
        "    for _ in range(max_output_len):\n",
        "\n",
        "        # **Disable gradient calculation for efficiency:**\n",
        "        with torch.no_grad():\n",
        "            # **Forward pass through the Transformer:**\n",
        "            log_proba = transformer_model(\n",
        "                en_sen.cuda(),  # Input English sentence on GPU\n",
        "                en_sen_len.cuda(),  # Input English sentence length on GPU\n",
        "                torch.tensor([fr_decoded]).cuda()  # Current decoded sentence on GPU\n",
        "            )  # Shape: [1, len(fr_decoded), vocab_size]\n",
        "\n",
        "            # **Greedy decoding: choose word with highest probability**\n",
        "            next_word_id = torch.argmax(log_proba, dim=-1)[0][-1]\n",
        "            fr_decoded.append(next_word_id)  # Add predicted word to decoded sentence\n",
        "\n",
        "            # **Early stopping if [SEP] (our end-of-sentence) token is predicted**\n",
        "            if next_word_id == tokenizer.sep_token_id:\n",
        "                break\n",
        "\n",
        "    # **Decode tokens back to human-readable text:**\n",
        "    fr_text = tokenizer.decode(\n",
        "        fr_decoded,\n",
        "        clean_up_tokenization_spaces=True  # Remove extra spaces around punctuation\n",
        "    ).replace(' ##', '')  # Join subwords back into complete words\n",
        "\n",
        "    return fr_text"
      ],
      "metadata": {
        "id": "YIwlq8cv0qke"
      },
      "execution_count": 31,
      "outputs": []
    },
    {
      "cell_type": "code",
      "source": [
        "text = \"I will like to address the court tomorrow, after much delibration on the matter\"\n",
        "\n",
        "naive_greedy_decoding(\n",
        "    text,\n",
        "    loaded_model,\n",
        "    tokenizer\n",
        "    )"
      ],
      "metadata": {
        "colab": {
          "base_uri": "https://localhost:8080/",
          "height": 35
        },
        "id": "zH0JCttW1OSs",
        "outputId": "a640dab5-9247-4d68-da83-f25e6e3e9469"
      },
      "execution_count": 32,
      "outputs": [
        {
          "output_type": "execute_result",
          "data": {
            "text/plain": [
              "'[CLS] Je voudrais adresser à la cour de justice demain, après la délibération de la question. [SEP]'"
            ],
            "application/vnd.google.colaboratory.intrinsic+json": {
              "type": "string"
            }
          },
          "metadata": {},
          "execution_count": 32
        }
      ]
    },
    {
      "cell_type": "markdown",
      "source": [
        "<img src=\"https://onedrive.live.com/embed?resid=8C3CCBBA832CF1E0%21605&authkey=%21AN-UxmT6yETwyKs&width=975&height=298\" width=\"975\" height=\"298\" />"
      ],
      "metadata": {
        "id": "FbsT5hLdA7aO"
      }
    },
    {
      "cell_type": "markdown",
      "source": [
        "### **Beam Search**\n",
        "Machine translation models generate output sequences like translated sentences. A common challenge is how to select the best words at each step, given the previous words and the input sequence.\n",
        "\n",
        "One simple method is **greedy decoding**, which predicts the most likely word at each step, building the sentence word by word. However, this can lead to suboptimal results as the model might get stuck in local optima, missing better translations overall.\n",
        "\n",
        "A more sophisticated method is **beam search**, which is a decoding algorithm that can generate sequences of words from a probability distribution over the vocabulary. It is often used in natural language processing tasks such as machine translation, text summarization, and image captioning, where the output is a sequence of words.\n",
        "\n",
        "Unlike greedy decoding, which only selects the most likely word at each step, beam search keeps track of a fixed number of candidates (called the beam size) and expands them until the end of the sequence or a stop token is reached. This allows beam search to explore more possible sequences and find a better solution than greedy decoding.\n",
        "\n",
        "The main steps of beam search are:\n",
        "\n",
        "1. **Maintain multiple candidate translations (beams).** At each step, instead of just the single best word, we consider the top `k` most likely words for **each existing beam**.\n",
        "\n",
        "2. **Expand each beam with the chosen word.** This effectively creates `k` new beams for each existing one, exploring different translation paths in parallel.\n",
        "\n",
        "3. **Evaluate and score new beams.** We consider both the probability of the current word and the overall translation's likelihood based on previous words.\n",
        "\n",
        "4. **Keep the top `k` beams.** We prune unlikely translations, focusing on the most promising candidates.\n",
        "\n",
        "5. **Repeat steps 2-4 until reaching a maximum length or end-of-sentence marker.**\n",
        "\n",
        "By considering multiple possibilities simultaneously, beam search **increases the chance of finding better translations** compared to greedy decoding. However, it comes with increased computational cost due to handling more candidate sequences.\n",
        "\n",
        "Beam search is needed because it can improve the quality and diversity of the generated sequences. Beam search can avoid some of the problems of greedy decoding, such as repeating words or generating short and incomplete sentences. Beam search can also generate multiple sequences with different probabilities, which can be useful for tasks that require multiple outputs or evaluation metrics."
      ],
      "metadata": {
        "id": "WLi23pbxAHq5"
      }
    },
    {
      "cell_type": "code",
      "source": [
        "import numpy as np\n",
        "\n",
        "def naive_beam_search(en_sentence, transformer_model, tokenizer, beam_width, max_output_len=250):\n",
        "    \"\"\"\n",
        "    Performs basic beam search decoding on the provided English sentence using the given Transformer model.\n",
        "\n",
        "    This method serves for educational purposes and demonstrates a simple beam search decoding approach.\n",
        "    For practical applications, more advanced and optimized beam search implementations are available.\n",
        "\n",
        "    Args:\n",
        "        en_sentence (str): The English sentence to translate.\n",
        "        transformer_model (nn.Module): The trained Transformer model.\n",
        "        tokenizer (transformers.PreTrainedTokenizer): The tokenizer used for text and vocabulary handling.\n",
        "        beam_width (int): The number of beams to keep during decoding.\n",
        "        max_output_len (int, optional): Maximum length of the decoded French sentence. Defaults to 250.\n",
        "\n",
        "    Returns:\n",
        "        list: A list of the top beam translations decoded by the model.\n",
        "    \"\"\"\n",
        "\n",
        "    # Set BOS and EOS token IDs for consistency\n",
        "    tokenizer.bos_token_id = tokenizer.cls_token_id\n",
        "    tokenizer.eos_token_id = tokenizer.sep_token_id\n",
        "\n",
        "    # Switch model to evaluation mode and GPU for efficiency\n",
        "    transformer_model = transformer_model.eval().cuda()\n",
        "\n",
        "    # Input validation\n",
        "    assert isinstance(en_sentence, str), \"The english sentence should be a string\"\n",
        "    en_sentence = en_sentence.strip()\n",
        "\n",
        "    if not en_sentence:\n",
        "        raise ValueError('Text should not be empty')\n",
        "    en_sentence = clean_text(en_sentence)  # Apply any necessary text cleaning\n",
        "\n",
        "    # Tokenize English sentence and calculate sequence length\n",
        "    en_sen = tokenizer.encode(en_sentence, return_tensors='pt')\n",
        "    en_sen_len = torch.tensor([en_sen.shape[1]])\n",
        "\n",
        "    # Initialize beam search data structures\n",
        "    with torch.no_grad():\n",
        "        # Get logits for first word from all beams\n",
        "        logits = transformer_model(\n",
        "            en_sen.cuda(),\n",
        "            en_sen_len.cuda(),\n",
        "            torch.tensor([[tokenizer.bos_token_id]]).cuda()\n",
        "            )[0, 0]\n",
        "\n",
        "        logits = torch.log(f.softmax(logits, dim=-1))  # Apply log-softmax\n",
        "\n",
        "        # Select top k logits and indices for each beam\n",
        "        top_k_logits, top_k_ind = torch.topk(logits, k=beam_width)\n",
        "\n",
        "        # Initialize beam translations, lengths, and EOS flags\n",
        "        fr_alt_translations = np.empty(beam_width, dtype=object)\n",
        "        fr_alt_translations[:] = [[tokenizer.bos_token_id, top_k_ind[i].item()] for i in range(beam_width)]\n",
        "        alt_sen_length = torch.tensor([2] * beam_width).cuda()  # Start with length 2 (BOS + first word)\n",
        "        non_eos_ind = torch.tensor([True] * beam_width).cuda()  # All beams active initially\n",
        "\n",
        "    # Main beam search loop\n",
        "    for _ in range(max_output_len):\n",
        "\n",
        "        # Initialize storage for next word logits\n",
        "        store_logits = torch.full((beam_width, tokenizer.vocab_size), -torch.inf).cuda()\n",
        "\n",
        "        # Set logits for beams that already reached EOS\n",
        "        store_logits[~non_eos_ind, tokenizer.eos_token_id] = top_k_logits[~non_eos_ind]\n",
        "\n",
        "        with torch.no_grad():\n",
        "            # Get logits for next word predictions for active beams\n",
        "            store_logits[non_eos_ind] = transformer_model(\n",
        "                en_sen.repeat(sum(non_eos_ind), 1).cuda(),\n",
        "                en_sen_len.repeat(sum(non_eos_ind)).cuda(),\n",
        "                torch.tensor(\n",
        "                    fr_alt_translations[non_eos_ind.cpu()].tolist()\n",
        "                    ).cuda()\n",
        "            )[:, -1]  # Get logits for last word in each sentence\n",
        "\n",
        "        # Mask unknown token with -inf logits\n",
        "        # store_logits[:, tokenizer.unk_token_id] = -torch.inf\n",
        "\n",
        "        # Apply log-softmax and add previous beam logits for active beams\n",
        "        store_logits[non_eos_ind] = torch.log(f.softmax(store_logits[non_eos_ind], dim=-1))\n",
        "        store_logits[non_eos_ind] += top_k_logits[non_eos_ind].view(-1, 1)\n",
        "\n",
        "        # Sentence length normalization:\n",
        "        len_norm_factor = 1/alt_sen_length.view(-1, 1) ** 0.7  # Calculate length normalization factor\n",
        "        store_logits *= len_norm_factor  # Apply normalization to logits\n",
        "\n",
        "        # Select top k next word predictions and indices:\n",
        "        top_k_logits, top_k_ind = torch.topk(store_logits.view(-1), k=beam_width)  # Reshape and get top k\n",
        "\n",
        "        # Extract next word IDs and beam indices:\n",
        "        next_token_id = top_k_ind % tokenizer.vocab_size  # Extract word IDs from indices\n",
        "        beam_ind = top_k_ind // tokenizer.vocab_size  # Extract beam indices\n",
        "\n",
        "        # Identify beams that haven't reached EOS:\n",
        "        non_eos_ind = next_token_id != tokenizer.eos_token_id  # Check for EOS token in predictions\n",
        "\n",
        "        # Select active beams (not reached EOS) for further processing:\n",
        "        fr_alt_translations = fr_alt_translations[beam_ind.cpu()]  # Keep active translations\n",
        "        alt_sen_length = alt_sen_length[beam_ind.cpu()]  # Keep active sentence lengths\n",
        "\n",
        "        # Update active beams with new word and increment length:\n",
        "        for idx, next_id in zip(torch.nonzero(non_eos_ind).flatten(), next_token_id[non_eos_ind]):\n",
        "            fr_alt_translations[idx] = fr_alt_translations[idx] + [next_id.item()]  # Add next word\n",
        "            alt_sen_length[idx] += 1  # Increase sentence length\n",
        "\n",
        "        # Early stopping if all beams have reached EOS:\n",
        "        if sum(non_eos_ind) == 0:\n",
        "            break  # No active beams left, stop decoding\n",
        "\n",
        "    # Decode final translations and return results:\n",
        "    for i, translation in enumerate(fr_alt_translations):\n",
        "        fr_alt_translations[i] = tokenizer.decode(\n",
        "            translation,\n",
        "            clean_up_tokenization_spaces=True,\n",
        "            skip_special_tokens=True\n",
        "        ).replace(' ##', '')  # Decode, remove spaces, combine subwords\n",
        "\n",
        "    return fr_alt_translations, top_k_logits  # Return decoded translations and final logits\n"
      ],
      "metadata": {
        "id": "yPQFXf6u6IzF"
      },
      "execution_count": 96,
      "outputs": []
    },
    {
      "cell_type": "code",
      "source": [
        "text = '''\n",
        "    While we disagree on specifics, we have a duty to serve the citizens of this country\n",
        "    to the best of our abilities.\n",
        "'''\n",
        "\n",
        "naive_beam_search(\n",
        "    text,\n",
        "    loaded_model,\n",
        "    tokenizer,\n",
        "    3)"
      ],
      "metadata": {
        "colab": {
          "base_uri": "https://localhost:8080/"
        },
        "id": "N1XWSmqR7v6X",
        "outputId": "af636a88-d47b-41b9-cf28-e817155764c8"
      },
      "execution_count": 118,
      "outputs": [
        {
          "output_type": "execute_result",
          "data": {
            "text/plain": [
              "(array([\"Bien que nous ne sommes pas d'accords spécifiques, nous avons le devoir de servir aux citoyens de ce pays à la meilleure qualité de nos capacités.\",\n",
              "        \"Bien que nous ne sommes pas d'accords spécifiques, nous avons le devoir de servir aux citoyens de ce pays à la meilleure capacité de nos capacités.\",\n",
              "        \"Bien que nous ne sommes pas d'accords spécifiques, nous devons nous servir devoir aux citoyens de ce pays à la meilleure qualité de nos capacités.\"],\n",
              "       dtype=object),\n",
              " tensor([-2.7071e-05, -3.5338e-05, -3.2246e-04], device='cuda:0'))"
            ]
          },
          "metadata": {},
          "execution_count": 118
        }
      ]
    },
    {
      "cell_type": "markdown",
      "source": [
        "<img src=\"https://onedrive.live.com/embed?resid=8C3CCBBA832CF1E0%21606&authkey=%21AMbl-Me9ZEZ-WvI&width=990&height=394\" width=\"990\" height=\"394\" />"
      ],
      "metadata": {
        "id": "5OF908LbMVHs"
      }
    },
    {
      "cell_type": "markdown",
      "source": [
        "📝 Note: Although Our Model performs fairly well for words you might normally hear at congress, it stuggles with normal texts 👇👇"
      ],
      "metadata": {
        "id": "YCTyFzNcTGC2"
      }
    },
    {
      "cell_type": "code",
      "source": [
        "text = '''\n",
        "    Wow!, What a beautiful day for hunting deers.\n",
        "'''\n",
        "\n",
        "naive_beam_search(\n",
        "    text,\n",
        "    loaded_model,\n",
        "    tokenizer,\n",
        "    3)"
      ],
      "metadata": {
        "colab": {
          "base_uri": "https://localhost:8080/"
        },
        "id": "-f-r5driN-4K",
        "outputId": "c0c024f4-c0ec-43dd-c10a-ec33e67d849e"
      },
      "execution_count": 125,
      "outputs": [
        {
          "output_type": "execute_result",
          "data": {
            "text/plain": [
              "(array([\"Ce qui se passe, c'est un beau jour pour la chasse à des chauffeurs.\",\n",
              "        \"Ce qui se passe, c'est un beau jour pour la chasse à la chasse aux chauffeurs.\",\n",
              "        \"Ce qui se passe aujourd'hui, c'est un beau jour pour la chasse aux chauffeurs.\"],\n",
              "       dtype=object),\n",
              " tensor([-6.3252e-05, -3.1468e-03, -3.7728e-03], device='cuda:0'))"
            ]
          },
          "metadata": {},
          "execution_count": 125
        }
      ]
    },
    {
      "cell_type": "markdown",
      "source": [
        "<img src=\"https://onedrive.live.com/embed?resid=8C3CCBBA832CF1E0%21607&authkey=%21APkk4TZjfybDQPw&width=979&height=297\" width=\"979\" height=\"297\" />"
      ],
      "metadata": {
        "id": "qXvYML9qSw6a"
      }
    },
    {
      "cell_type": "markdown",
      "source": [
        "📝 This is mostly due to both reasons below:\n",
        "\n",
        "1: I haven't trained the model enough for it to start to generalize (i only trained for half the first epoch).\n",
        "\n",
        "2: Our Dataset is mean't to be more diverse than just congress texts, this will enable the model learn more complex language nuances.\n",
        "\n",
        "State-Of-The-Art Translation models are way more bigger than our model often reaching up to Trillions Of Parameters and they train on Hundreds of Millions of sentence pairs."
      ],
      "metadata": {
        "id": "T06TjG0WMZgJ"
      }
    },
    {
      "cell_type": "markdown",
      "source": [
        "### **Congratulations** 🎉🎉\n",
        "You can now build a transformer for Language Translations. 😊\n",
        "\n",
        "Follow me on:\n",
        "\n",
        "* **[LinkedIn Profile](https://www.linkedin.com/in/jonathan-okorie-843126216/)** for questions, deep learning projects, chat e.t.c.\n",
        "\n",
        "* **[Twitter Profile](https://twitter.com/Nathan_Young_1)** for bite-sized knowledge & (questionable) puns."
      ],
      "metadata": {
        "id": "Hfo48waGVURX"
      }
    },
    {
      "cell_type": "markdown",
      "source": [
        "![Celebration](https://www.bing.com/th/id/OGC.da35457a6e4969036e52aa30920fbda9?pid=1.7&rurl=https%3a%2f%2fmedia.giphy.com%2fmedia%2fyidUzEKG4AaHWCpsPu%2fgiphy.gif&ehk=zy7t4EILSylbdm0EJC%2fkPu12DvoLx0AD89jDzaXKT8o%3d \"celebration\")"
      ],
      "metadata": {
        "id": "K-m9uXwXUZ9K"
      }
    },
    {
      "cell_type": "code",
      "source": [],
      "metadata": {
        "id": "dJO5bHB_EpAG"
      },
      "execution_count": null,
      "outputs": []
    }
  ]
}